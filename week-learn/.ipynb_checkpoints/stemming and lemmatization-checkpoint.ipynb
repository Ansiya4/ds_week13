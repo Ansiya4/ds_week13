{
 "cells": [
  {
   "cell_type": "markdown",
   "id": "6f9a8b96-f4b4-4446-b76b-27e8f6901bbc",
   "metadata": {},
   "source": [
    "### stemming"
   ]
  },
  {
   "cell_type": "code",
   "execution_count": 1,
   "id": "23374a61-ed95-43af-9857-d03df5cda8cb",
   "metadata": {},
   "outputs": [],
   "source": [
    "from nltk.stem import PorterStemmer"
   ]
  },
  {
   "cell_type": "code",
   "execution_count": 2,
   "id": "236f27b4-9826-4e53-a680-3901be7dbbb7",
   "metadata": {},
   "outputs": [],
   "source": [
    "porter_stemmer = PorterStemmer()"
   ]
  },
  {
   "cell_type": "code",
   "execution_count": 3,
   "id": "a6867079-b432-4237-9806-101e0f853839",
   "metadata": {},
   "outputs": [],
   "source": [
    "words_to_stem = [\"running\", \"flies\", \"happily\", \"better\"]"
   ]
  },
  {
   "cell_type": "code",
   "execution_count": 4,
   "id": "5cc0af10-b0db-47ed-8877-466d4638b679",
   "metadata": {},
   "outputs": [],
   "source": [
    "stemmed_words = [porter_stemmer.stem(word) for word in words_to_stem]"
   ]
  },
  {
   "cell_type": "markdown",
   "id": "22dece9d-ca9b-49a8-95c0-79ae31e6fad3",
   "metadata": {},
   "source": [
    "### lemmatization"
   ]
  },
  {
   "cell_type": "code",
   "execution_count": 6,
   "id": "d5ee042d-ec58-4996-9827-bd59669eb850",
   "metadata": {},
   "outputs": [],
   "source": [
    "import nltk\n",
    "from nltk.stem import WordNetLemmatizer\n",
    "from nltk.tokenize import word_tokenize"
   ]
  },
  {
   "cell_type": "code",
   "execution_count": 7,
   "id": "bd8a6818-7e0b-406c-856a-12a293471ff1",
   "metadata": {},
   "outputs": [
    {
     "name": "stderr",
     "output_type": "stream",
     "text": [
      "[nltk_data] Downloading package wordnet to\n",
      "[nltk_data]     C:\\Users\\hp\\AppData\\Roaming\\nltk_data...\n",
      "[nltk_data] Downloading package punkt to\n",
      "[nltk_data]     C:\\Users\\hp\\AppData\\Roaming\\nltk_data...\n",
      "[nltk_data]   Package punkt is already up-to-date!\n"
     ]
    },
    {
     "data": {
      "text/plain": [
       "True"
      ]
     },
     "execution_count": 7,
     "metadata": {},
     "output_type": "execute_result"
    }
   ],
   "source": [
    "nltk.download('wordnet')\n",
    "nltk.download('punkt')"
   ]
  },
  {
   "cell_type": "code",
   "execution_count": 8,
   "id": "09831b23-fcbc-4927-a463-7d1ee84356c6",
   "metadata": {},
   "outputs": [],
   "source": [
    "# Create a WordNet Lemmatizer object\n",
    "lemmatizer = WordNetLemmatizer()"
   ]
  },
  {
   "cell_type": "code",
   "execution_count": 9,
   "id": "89602050-cd54-4d0d-a489-530730951904",
   "metadata": {},
   "outputs": [],
   "source": [
    "sentence = \"The cats are sleeping peacefully\""
   ]
  },
  {
   "cell_type": "code",
   "execution_count": 10,
   "id": "04e8c4d5-c400-4c70-aee0-db9ebf00914c",
   "metadata": {},
   "outputs": [],
   "source": [
    "words = word_tokenize(sentence)"
   ]
  },
  {
   "cell_type": "code",
   "execution_count": 14,
   "id": "6f7d29a9-d11b-4131-8d9d-9b56db48c50c",
   "metadata": {},
   "outputs": [],
   "source": [
    "lemmatized_words = [lemmatizer.lemmatize(word,pos='v') for word in words]"
   ]
  },
  {
   "cell_type": "code",
   "execution_count": 15,
   "id": "326db8f5-628b-4970-bb95-c711381d39c2",
   "metadata": {},
   "outputs": [],
   "source": [
    "lemmatized_sentence = ' '.join(lemmatized_words)"
   ]
  },
  {
   "cell_type": "code",
   "execution_count": 16,
   "id": "4540f131-533d-4f5c-8952-606dbdcef947",
   "metadata": {},
   "outputs": [
    {
     "name": "stdout",
     "output_type": "stream",
     "text": [
      "Original: The cats are sleeping peacefully\n",
      "Lemmatized: The cat be sleep peacefully\n"
     ]
    }
   ],
   "source": [
    "print(f\"Original: {sentence}\")\n",
    "print(f\"Lemmatized: {lemmatized_sentence}\")"
   ]
  },
  {
   "cell_type": "code",
   "execution_count": null,
   "id": "cb1b5da9-e94d-477f-bb1c-02aacd9209f8",
   "metadata": {},
   "outputs": [],
   "source": []
  },
  {
   "cell_type": "code",
   "execution_count": null,
   "id": "39cab356-a1ae-488f-aecc-1e650ba6c93f",
   "metadata": {},
   "outputs": [],
   "source": []
  }
 ],
 "metadata": {
  "kernelspec": {
   "display_name": "Python 3 (ipykernel)",
   "language": "python",
   "name": "python3"
  },
  "language_info": {
   "codemirror_mode": {
    "name": "ipython",
    "version": 3
   },
   "file_extension": ".py",
   "mimetype": "text/x-python",
   "name": "python",
   "nbconvert_exporter": "python",
   "pygments_lexer": "ipython3",
   "version": "3.10.10"
  }
 },
 "nbformat": 4,
 "nbformat_minor": 5
}
