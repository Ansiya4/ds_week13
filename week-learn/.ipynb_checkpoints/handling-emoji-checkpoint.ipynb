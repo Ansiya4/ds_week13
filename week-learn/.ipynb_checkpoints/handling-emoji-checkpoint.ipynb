{
 "cells": [
  {
   "cell_type": "code",
   "execution_count": 2,
   "id": "cfe62382-3133-4b99-9bcf-f1d740f0fa12",
   "metadata": {},
   "outputs": [],
   "source": [
    "import re"
   ]
  },
  {
   "cell_type": "code",
   "execution_count": 3,
   "id": "c5aa453c-fe2e-457e-ad11-99503bda5b2c",
   "metadata": {},
   "outputs": [],
   "source": [
    "def remove_emojis(text):\n",
    "    emoji_pattern = re.compile(\"[\"\n",
    "                               u\"\\U0001F600-\\U0001F64F\"  # emoticons\n",
    "                               u\"\\U0001F300-\\U0001F5FF\"  # symbols & pictographs\n",
    "                               u\"\\U0001F680-\\U0001F6FF\"  # transport & map symbols\n",
    "                               u\"\\U0001F700-\\U0001F77F\"  # alchemical symbols\n",
    "                               u\"\\U0001F780-\\U0001F7FF\"  # Geometric Shapes Extended\n",
    "                               u\"\\U0001F800-\\U0001F8FF\"  # Supplemental Arrows-C\n",
    "                               u\"\\U0001F900-\\U0001F9FF\"  # Supplemental Symbols and Pictographs\n",
    "                               u\"\\U0001FA00-\\U0001FA6F\"  # Chess Symbols\n",
    "                               u\"\\U0001FA70-\\U0001FAFF\"  # Symbols and Pictographs Extended-A\n",
    "                               u\"\\U00002702-\\U000027B0\"  # Dingbats\n",
    "                               u\"\\U000024C2-\\U0001F251\" \n",
    "                               \"]+\", flags=re.UNICODE)\n",
    "    return emoji_pattern.sub(r'', text)\n"
   ]
  },
  {
   "cell_type": "code",
   "execution_count": 4,
   "id": "d98c0fea-b6aa-4d52-9300-d68214da9d69",
   "metadata": {},
   "outputs": [
    {
     "name": "stdout",
     "output_type": "stream",
     "text": [
      "Original text: Hello 😊, how are you? 🌍\n",
      "Text without emojis: Hello , how are you? \n"
     ]
    }
   ],
   "source": [
    "# Example usage\n",
    "text_with_emojis = \"Hello 😊, how are you? 🌍\"\n",
    "text_without_emojis = remove_emojis(text_with_emojis)\n",
    "\n",
    "print(\"Original text:\", text_with_emojis)\n",
    "print(\"Text without emojis:\", text_without_emojis)"
   ]
  },
  {
   "cell_type": "code",
   "execution_count": 7,
   "id": "23b5fdd2-6b21-4146-a0c8-bf564ea730d3",
   "metadata": {},
   "outputs": [
    {
     "name": "stdout",
     "output_type": "stream",
     "text": [
      "Collecting emojiNote: you may need to restart the kernel to use updated packages.\n",
      "\n",
      "  Downloading emoji-2.10.0-py2.py3-none-any.whl.metadata (5.3 kB)\n",
      "Downloading emoji-2.10.0-py2.py3-none-any.whl (457 kB)\n",
      "   ---------------------------------------- 0.0/457.9 kB ? eta -:--:--\n",
      "   ----- ---------------------------------- 61.4/457.9 kB 1.7 MB/s eta 0:00:01\n",
      "   ------------ --------------------------- 143.4/457.9 kB 1.7 MB/s eta 0:00:01\n",
      "   -------------------- ------------------- 235.5/457.9 kB 2.1 MB/s eta 0:00:01\n",
      "   ------------------------------ --------- 348.2/457.9 kB 2.0 MB/s eta 0:00:01\n",
      "   ---------------------------------------- 457.9/457.9 kB 2.0 MB/s eta 0:00:00\n",
      "Installing collected packages: emoji\n",
      "Successfully installed emoji-2.10.0\n"
     ]
    },
    {
     "name": "stderr",
     "output_type": "stream",
     "text": [
      "\n",
      "[notice] A new release of pip is available: 23.3.1 -> 23.3.2\n",
      "[notice] To update, run: python.exe -m pip install --upgrade pip\n"
     ]
    }
   ],
   "source": [
    "pip install emoji"
   ]
  },
  {
   "cell_type": "code",
   "execution_count": 8,
   "id": "1ad1431d-495c-4000-8bf5-6695cfa86de3",
   "metadata": {},
   "outputs": [],
   "source": [
    "import emoji"
   ]
  },
  {
   "cell_type": "code",
   "execution_count": 9,
   "id": "084bf2f0-24fe-4bb8-b9aa-c2efb60f64ca",
   "metadata": {},
   "outputs": [
    {
     "name": "stdout",
     "output_type": "stream",
     "text": [
      "python is :fire:\n"
     ]
    }
   ],
   "source": [
    "print(emoji.demojize('python is 🔥'))"
   ]
  },
  {
   "cell_type": "code",
   "execution_count": null,
   "id": "6112b98b-2bb4-4d65-9268-5f09b86b1707",
   "metadata": {},
   "outputs": [],
   "source": []
  }
 ],
 "metadata": {
  "kernelspec": {
   "display_name": "Python 3 (ipykernel)",
   "language": "python",
   "name": "python3"
  },
  "language_info": {
   "codemirror_mode": {
    "name": "ipython",
    "version": 3
   },
   "file_extension": ".py",
   "mimetype": "text/x-python",
   "name": "python",
   "nbconvert_exporter": "python",
   "pygments_lexer": "ipython3",
   "version": "3.10.10"
  }
 },
 "nbformat": 4,
 "nbformat_minor": 5
}
