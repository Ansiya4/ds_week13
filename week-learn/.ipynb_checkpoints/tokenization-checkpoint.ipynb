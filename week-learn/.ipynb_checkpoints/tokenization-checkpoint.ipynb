{
 "cells": [
  {
   "cell_type": "markdown",
   "id": "cc6c8af9-ae53-4127-a38e-df51bf40d365",
   "metadata": {},
   "source": [
    "### 1.split function"
   ]
  },
  {
   "cell_type": "code",
   "execution_count": 3,
   "id": "84a843b7-d553-4c1f-8d0c-a09cf577a506",
   "metadata": {},
   "outputs": [
    {
     "data": {
      "text/plain": [
       "['i', 'am', 'going', 'to', 'Delhi']"
      ]
     },
     "execution_count": 3,
     "metadata": {},
     "output_type": "execute_result"
    }
   ],
   "source": [
    "s1=\"i am going to Delhi\"\n",
    "s1.split()"
   ]
  },
  {
   "cell_type": "code",
   "execution_count": 5,
   "id": "07421eb7-34fa-406f-b444-252c2c227e90",
   "metadata": {},
   "outputs": [
    {
     "data": {
      "text/plain": [
       "['The cat sat on the windowsill, gazing out at the falling snow',\n",
       " ' Meanwhile, the dog curled up on the cozy rug by the fireplace, enjoying the warmth',\n",
       " '']"
      ]
     },
     "execution_count": 5,
     "metadata": {},
     "output_type": "execute_result"
    }
   ],
   "source": [
    "s2= 'The cat sat on the windowsill, gazing out at the falling snow. Meanwhile, the dog curled up on the cozy rug by the fireplace, enjoying the warmth.'\n",
    "s2.split('.')"
   ]
  },
  {
   "cell_type": "markdown",
   "id": "3fbcbf80-4046-4928-a5b3-ed06068d9778",
   "metadata": {},
   "source": [
    "### 2. regular expression"
   ]
  },
  {
   "cell_type": "code",
   "execution_count": 7,
   "id": "da928aaa-0310-4920-ab4f-8f85865b3988",
   "metadata": {},
   "outputs": [],
   "source": [
    "import re"
   ]
  },
  {
   "cell_type": "code",
   "execution_count": 9,
   "id": "7b462718-6209-4562-9d18-4142ba0a33d7",
   "metadata": {},
   "outputs": [
    {
     "data": {
      "text/plain": [
       "['i', 'am', 'going', 'to', 'delhi']"
      ]
     },
     "execution_count": 9,
     "metadata": {},
     "output_type": "execute_result"
    }
   ],
   "source": [
    "s3='i am going to delhi!'\n",
    "tokens=re.findall(\"[\\w']+\",s3)\n",
    "tokens"
   ]
  },
  {
   "cell_type": "markdown",
   "id": "edc91ae7-14f6-429a-8845-259acd2a765d",
   "metadata": {},
   "source": [
    "### 3. NLT"
   ]
  },
  {
   "cell_type": "code",
   "execution_count": 10,
   "id": "e209dc94-2071-41e2-8438-d8b07b57faea",
   "metadata": {},
   "outputs": [],
   "source": [
    "from nltk.tokenize import word_tokenize,sent_tokenize"
   ]
  },
  {
   "cell_type": "code",
   "execution_count": 11,
   "id": "266d379a-4727-4f5c-8f3b-44b00c17e78b",
   "metadata": {},
   "outputs": [
    {
     "data": {
      "text/plain": [
       "['i', 'am', 'going', 'to', 'delhi', '!']"
      ]
     },
     "execution_count": 11,
     "metadata": {},
     "output_type": "execute_result"
    }
   ],
   "source": [
    "word_tokenize(s3)"
   ]
  },
  {
   "cell_type": "code",
   "execution_count": 12,
   "id": "d64ed337-6d86-4d92-ba58-ce8627da7826",
   "metadata": {},
   "outputs": [],
   "source": [
    "s4=\"i am ansiya. far 5km ansiya4@gmail.com\""
   ]
  },
  {
   "cell_type": "code",
   "execution_count": 13,
   "id": "4b0633a7-e998-4fb0-9c7a-ed24016e1c73",
   "metadata": {},
   "outputs": [
    {
     "data": {
      "text/plain": [
       "['i', 'am', 'ansiya', '.', 'far', '5km', 'ansiya4', '@', 'gmail.com']"
      ]
     },
     "execution_count": 13,
     "metadata": {},
     "output_type": "execute_result"
    }
   ],
   "source": [
    "word_tokenize(s4)"
   ]
  },
  {
   "cell_type": "markdown",
   "id": "4d72e847-636b-4d07-be83-741651ebefda",
   "metadata": {},
   "source": [
    "### 4. SPACY"
   ]
  },
  {
   "cell_type": "code",
   "execution_count": 18,
   "id": "21100f2e-95ae-451d-8bf6-a20ba94d1494",
   "metadata": {},
   "outputs": [],
   "source": [
    "import spacy"
   ]
  },
  {
   "cell_type": "code",
   "execution_count": 17,
   "id": "2aa9fd2c-5029-4c2f-b0bf-31b97b4f3721",
   "metadata": {},
   "outputs": [
    {
     "name": "stdout",
     "output_type": "stream",
     "text": [
      "Collecting spacy\n",
      "  Downloading spacy-3.7.2-cp310-cp310-win_amd64.whl.metadata (26 kB)\n",
      "Collecting spacy-legacy<3.1.0,>=3.0.11 (from spacy)\n",
      "  Downloading spacy_legacy-3.0.12-py2.py3-none-any.whl (29 kB)\n",
      "Collecting spacy-loggers<2.0.0,>=1.0.0 (from spacy)\n",
      "  Downloading spacy_loggers-1.0.5-py3-none-any.whl.metadata (23 kB)\n",
      "Collecting murmurhash<1.1.0,>=0.28.0 (from spacy)\n",
      "  Downloading murmurhash-1.0.10-cp310-cp310-win_amd64.whl.metadata (2.0 kB)\n",
      "Collecting cymem<2.1.0,>=2.0.2 (from spacy)\n",
      "  Downloading cymem-2.0.8-cp310-cp310-win_amd64.whl.metadata (8.6 kB)\n",
      "Collecting preshed<3.1.0,>=3.0.2 (from spacy)\n",
      "  Downloading preshed-3.0.9-cp310-cp310-win_amd64.whl.metadata (2.2 kB)\n",
      "Collecting thinc<8.3.0,>=8.1.8 (from spacy)\n",
      "  Downloading thinc-8.2.2-cp310-cp310-win_amd64.whl.metadata (15 kB)\n",
      "Collecting wasabi<1.2.0,>=0.9.1 (from spacy)\n",
      "  Downloading wasabi-1.1.2-py3-none-any.whl.metadata (28 kB)\n",
      "Collecting srsly<3.0.0,>=2.4.3 (from spacy)\n",
      "  Downloading srsly-2.4.8-cp310-cp310-win_amd64.whl.metadata (20 kB)\n",
      "Collecting catalogue<2.1.0,>=2.0.6 (from spacy)\n",
      "  Downloading catalogue-2.0.10-py3-none-any.whl.metadata (14 kB)\n",
      "Collecting weasel<0.4.0,>=0.1.0 (from spacy)\n",
      "  Downloading weasel-0.3.4-py3-none-any.whl.metadata (4.7 kB)\n",
      "Collecting typer<0.10.0,>=0.3.0 (from spacy)\n",
      "  Downloading typer-0.9.0-py3-none-any.whl (45 kB)\n",
      "     ---------------------------------------- 0.0/45.9 kB ? eta -:--:--\n",
      "     ---------------------------------------- 45.9/45.9 kB 2.2 MB/s eta 0:00:00\n",
      "Collecting smart-open<7.0.0,>=5.2.1 (from spacy)\n",
      "  Downloading smart_open-6.4.0-py3-none-any.whl.metadata (21 kB)\n",
      "Requirement already satisfied: tqdm<5.0.0,>=4.38.0 in c:\\users\\hp\\appdata\\local\\programs\\python\\python310\\lib\\site-packages (from spacy) (4.66.1)\n",
      "Requirement already satisfied: requests<3.0.0,>=2.13.0 in c:\\users\\hp\\appdata\\local\\programs\\python\\python310\\lib\\site-packages (from spacy) (2.31.0)\n",
      "Collecting pydantic!=1.8,!=1.8.1,<3.0.0,>=1.7.4 (from spacy)\n",
      "  Downloading pydantic-2.5.3-py3-none-any.whl.metadata (65 kB)\n",
      "     ---------------------------------------- 0.0/65.6 kB ? eta -:--:--\n",
      "     ------------------------ --------------- 41.0/65.6 kB ? eta -:--:--\n",
      "     -------------------------------------- 65.6/65.6 kB 709.7 kB/s eta 0:00:00\n",
      "Requirement already satisfied: jinja2 in c:\\users\\hp\\appdata\\local\\programs\\python\\python310\\lib\\site-packages (from spacy) (3.1.2)\n",
      "Requirement already satisfied: setuptools in c:\\users\\hp\\appdata\\local\\programs\\python\\python310\\lib\\site-packages (from spacy) (65.5.0)\n",
      "Requirement already satisfied: packaging>=20.0 in c:\\users\\hp\\appdata\\local\\programs\\python\\python310\\lib\\site-packages (from spacy) (23.1)\n",
      "Collecting langcodes<4.0.0,>=3.2.0 (from spacy)\n",
      "  Downloading langcodes-3.3.0-py3-none-any.whl (181 kB)\n",
      "     ---------------------------------------- 0.0/181.6 kB ? eta -:--:--\n",
      "     ----------------------- -------------- 112.6/181.6 kB 3.3 MB/s eta 0:00:01\n",
      "     ----------------------------- -------- 143.4/181.6 kB 2.1 MB/s eta 0:00:01\n",
      "     -------------------------------------- 181.6/181.6 kB 1.6 MB/s eta 0:00:00\n",
      "Requirement already satisfied: numpy>=1.19.0 in c:\\users\\hp\\appdata\\local\\programs\\python\\python310\\lib\\site-packages (from spacy) (1.25.2)\n",
      "Collecting annotated-types>=0.4.0 (from pydantic!=1.8,!=1.8.1,<3.0.0,>=1.7.4->spacy)\n",
      "  Downloading annotated_types-0.6.0-py3-none-any.whl.metadata (12 kB)\n",
      "Collecting pydantic-core==2.14.6 (from pydantic!=1.8,!=1.8.1,<3.0.0,>=1.7.4->spacy)\n",
      "  Downloading pydantic_core-2.14.6-cp310-none-win_amd64.whl.metadata (6.6 kB)\n",
      "Requirement already satisfied: typing-extensions>=4.6.1 in c:\\users\\hp\\appdata\\local\\programs\\python\\python310\\lib\\site-packages (from pydantic!=1.8,!=1.8.1,<3.0.0,>=1.7.4->spacy) (4.7.1)\n",
      "Requirement already satisfied: charset-normalizer<4,>=2 in c:\\users\\hp\\appdata\\local\\programs\\python\\python310\\lib\\site-packages (from requests<3.0.0,>=2.13.0->spacy) (3.2.0)\n",
      "Requirement already satisfied: idna<4,>=2.5 in c:\\users\\hp\\appdata\\local\\programs\\python\\python310\\lib\\site-packages (from requests<3.0.0,>=2.13.0->spacy) (3.4)\n",
      "Requirement already satisfied: urllib3<3,>=1.21.1 in c:\\users\\hp\\appdata\\local\\programs\\python\\python310\\lib\\site-packages (from requests<3.0.0,>=2.13.0->spacy) (2.0.4)\n",
      "Requirement already satisfied: certifi>=2017.4.17 in c:\\users\\hp\\appdata\\local\\programs\\python\\python310\\lib\\site-packages (from requests<3.0.0,>=2.13.0->spacy) (2023.7.22)\n",
      "Collecting blis<0.8.0,>=0.7.8 (from thinc<8.3.0,>=8.1.8->spacy)\n",
      "  Downloading blis-0.7.11-cp310-cp310-win_amd64.whl.metadata (7.6 kB)\n",
      "Collecting confection<1.0.0,>=0.0.1 (from thinc<8.3.0,>=8.1.8->spacy)\n",
      "  Downloading confection-0.1.4-py3-none-any.whl.metadata (19 kB)\n",
      "Requirement already satisfied: colorama in c:\\users\\hp\\appdata\\local\\programs\\python\\python310\\lib\\site-packages (from tqdm<5.0.0,>=4.38.0->spacy) (0.4.6)\n",
      "Requirement already satisfied: click<9.0.0,>=7.1.1 in c:\\users\\hp\\appdata\\local\\programs\\python\\python310\\lib\\site-packages (from typer<0.10.0,>=0.3.0->spacy) (8.1.7)\n",
      "Collecting cloudpathlib<0.17.0,>=0.7.0 (from weasel<0.4.0,>=0.1.0->spacy)\n",
      "  Downloading cloudpathlib-0.16.0-py3-none-any.whl.metadata (14 kB)\n",
      "Requirement already satisfied: MarkupSafe>=2.0 in c:\\users\\hp\\appdata\\local\\programs\\python\\python310\\lib\\site-packages (from jinja2->spacy) (2.1.3)\n",
      "Downloading spacy-3.7.2-cp310-cp310-win_amd64.whl (12.1 MB)\n",
      "   ---------------------------------------- 0.0/12.1 MB ? eta -:--:--\n",
      "   ---------------------------------------- 0.1/12.1 MB 3.2 MB/s eta 0:00:04\n",
      "   ---------------------------------------- 0.1/12.1 MB 3.2 MB/s eta 0:00:04\n",
      "   - -------------------------------------- 0.3/12.1 MB 3.4 MB/s eta 0:00:04\n",
      "   - -------------------------------------- 0.4/12.1 MB 2.1 MB/s eta 0:00:06\n",
      "   - -------------------------------------- 0.5/12.1 MB 2.2 MB/s eta 0:00:06\n",
      "   - -------------------------------------- 0.5/12.1 MB 2.0 MB/s eta 0:00:06\n",
      "   -- ------------------------------------- 0.6/12.1 MB 2.1 MB/s eta 0:00:06\n",
      "   -- ------------------------------------- 0.7/12.1 MB 1.8 MB/s eta 0:00:07\n",
      "   -- ------------------------------------- 0.8/12.1 MB 1.8 MB/s eta 0:00:07\n",
      "   -- ------------------------------------- 0.9/12.1 MB 1.9 MB/s eta 0:00:06\n",
      "   --- ------------------------------------ 1.0/12.1 MB 2.0 MB/s eta 0:00:06\n",
      "   --- ------------------------------------ 1.1/12.1 MB 2.0 MB/s eta 0:00:06\n",
      "   --- ------------------------------------ 1.2/12.1 MB 2.0 MB/s eta 0:00:06\n",
      "   ---- ----------------------------------- 1.3/12.1 MB 2.1 MB/s eta 0:00:06\n",
      "   ---- ----------------------------------- 1.5/12.1 MB 2.2 MB/s eta 0:00:05\n",
      "   ---- ----------------------------------- 1.5/12.1 MB 2.2 MB/s eta 0:00:05\n",
      "   ----- ---------------------------------- 1.6/12.1 MB 2.1 MB/s eta 0:00:06\n",
      "   ----- ---------------------------------- 1.7/12.1 MB 2.1 MB/s eta 0:00:06\n",
      "   ------ --------------------------------- 1.8/12.1 MB 2.1 MB/s eta 0:00:05\n",
      "   ------ --------------------------------- 1.9/12.1 MB 2.1 MB/s eta 0:00:05\n",
      "   ------ --------------------------------- 2.0/12.1 MB 2.1 MB/s eta 0:00:05\n",
      "   ------- -------------------------------- 2.1/12.1 MB 2.2 MB/s eta 0:00:05\n",
      "   ------- -------------------------------- 2.3/12.1 MB 2.2 MB/s eta 0:00:05\n",
      "   -------- ------------------------------- 2.4/12.1 MB 2.2 MB/s eta 0:00:05\n",
      "   -------- ------------------------------- 2.5/12.1 MB 2.2 MB/s eta 0:00:05\n",
      "   -------- ------------------------------- 2.7/12.1 MB 2.2 MB/s eta 0:00:05\n",
      "   --------- ------------------------------ 2.7/12.1 MB 2.2 MB/s eta 0:00:05\n",
      "   --------- ------------------------------ 2.8/12.1 MB 2.2 MB/s eta 0:00:05\n",
      "   --------- ------------------------------ 2.9/12.1 MB 2.2 MB/s eta 0:00:05\n",
      "   ---------- ----------------------------- 3.1/12.1 MB 2.2 MB/s eta 0:00:05\n",
      "   ---------- ----------------------------- 3.2/12.1 MB 2.2 MB/s eta 0:00:04\n",
      "   ---------- ----------------------------- 3.3/12.1 MB 2.3 MB/s eta 0:00:04\n",
      "   ----------- ---------------------------- 3.4/12.1 MB 2.2 MB/s eta 0:00:04\n",
      "   ----------- ---------------------------- 3.5/12.1 MB 2.3 MB/s eta 0:00:04\n",
      "   ------------ --------------------------- 3.7/12.1 MB 2.3 MB/s eta 0:00:04\n",
      "   ------------ --------------------------- 3.8/12.1 MB 2.3 MB/s eta 0:00:04\n",
      "   ------------ --------------------------- 3.9/12.1 MB 2.3 MB/s eta 0:00:04\n",
      "   ------------- -------------------------- 4.0/12.1 MB 2.3 MB/s eta 0:00:04\n",
      "   ------------- -------------------------- 4.1/12.1 MB 2.3 MB/s eta 0:00:04\n",
      "   ------------- -------------------------- 4.2/12.1 MB 2.3 MB/s eta 0:00:04\n",
      "   -------------- ------------------------- 4.2/12.1 MB 2.2 MB/s eta 0:00:04\n",
      "   -------------- ------------------------- 4.4/12.1 MB 2.2 MB/s eta 0:00:04\n",
      "   -------------- ------------------------- 4.4/12.1 MB 2.2 MB/s eta 0:00:04\n",
      "   --------------- ------------------------ 4.6/12.1 MB 2.2 MB/s eta 0:00:04\n",
      "   --------------- ------------------------ 4.7/12.1 MB 2.2 MB/s eta 0:00:04\n",
      "   --------------- ------------------------ 4.8/12.1 MB 2.3 MB/s eta 0:00:04\n",
      "   ---------------- ----------------------- 4.9/12.1 MB 2.3 MB/s eta 0:00:04\n",
      "   ---------------- ----------------------- 5.1/12.1 MB 2.3 MB/s eta 0:00:04\n",
      "   ----------------- ---------------------- 5.2/12.1 MB 2.3 MB/s eta 0:00:03\n",
      "   ----------------- ---------------------- 5.3/12.1 MB 2.3 MB/s eta 0:00:03\n",
      "   ------------------ --------------------- 5.5/12.1 MB 2.3 MB/s eta 0:00:03\n",
      "   ------------------ --------------------- 5.5/12.1 MB 2.3 MB/s eta 0:00:03\n",
      "   ------------------ --------------------- 5.6/12.1 MB 2.3 MB/s eta 0:00:03\n",
      "   ------------------ --------------------- 5.7/12.1 MB 2.3 MB/s eta 0:00:03\n",
      "   ------------------- -------------------- 5.8/12.1 MB 2.3 MB/s eta 0:00:03\n",
      "   ------------------- -------------------- 5.9/12.1 MB 2.3 MB/s eta 0:00:03\n",
      "   -------------------- ------------------- 6.1/12.1 MB 2.3 MB/s eta 0:00:03\n",
      "   -------------------- ------------------- 6.2/12.1 MB 2.3 MB/s eta 0:00:03\n",
      "   -------------------- ------------------- 6.2/12.1 MB 2.3 MB/s eta 0:00:03\n",
      "   -------------------- ------------------- 6.3/12.1 MB 2.3 MB/s eta 0:00:03\n",
      "   --------------------- ------------------ 6.5/12.1 MB 2.3 MB/s eta 0:00:03\n",
      "   --------------------- ------------------ 6.5/12.1 MB 2.3 MB/s eta 0:00:03\n",
      "   --------------------- ------------------ 6.6/12.1 MB 2.2 MB/s eta 0:00:03\n",
      "   ---------------------- ----------------- 6.7/12.1 MB 2.3 MB/s eta 0:00:03\n",
      "   ---------------------- ----------------- 6.8/12.1 MB 2.3 MB/s eta 0:00:03\n",
      "   ---------------------- ----------------- 6.9/12.1 MB 2.3 MB/s eta 0:00:03\n",
      "   ----------------------- ---------------- 7.0/12.1 MB 2.3 MB/s eta 0:00:03\n",
      "   ----------------------- ---------------- 7.1/12.1 MB 2.3 MB/s eta 0:00:03\n",
      "   ----------------------- ---------------- 7.2/12.1 MB 2.3 MB/s eta 0:00:03\n",
      "   ------------------------ --------------- 7.3/12.1 MB 2.3 MB/s eta 0:00:03\n",
      "   ------------------------ --------------- 7.4/12.1 MB 2.2 MB/s eta 0:00:03\n",
      "   ------------------------ --------------- 7.5/12.1 MB 2.2 MB/s eta 0:00:03\n",
      "   ------------------------ --------------- 7.5/12.1 MB 2.2 MB/s eta 0:00:03\n",
      "   ------------------------- -------------- 7.6/12.1 MB 2.2 MB/s eta 0:00:03\n",
      "   ------------------------- -------------- 7.7/12.1 MB 2.2 MB/s eta 0:00:02\n",
      "   ------------------------- -------------- 7.8/12.1 MB 2.2 MB/s eta 0:00:02\n",
      "   -------------------------- ------------- 7.9/12.1 MB 2.2 MB/s eta 0:00:02\n",
      "   -------------------------- ------------- 7.9/12.1 MB 2.2 MB/s eta 0:00:02\n",
      "   -------------------------- ------------- 8.0/12.1 MB 2.2 MB/s eta 0:00:02\n",
      "   --------------------------- ------------ 8.2/12.1 MB 2.2 MB/s eta 0:00:02\n",
      "   --------------------------- ------------ 8.3/12.1 MB 2.2 MB/s eta 0:00:02\n",
      "   --------------------------- ------------ 8.3/12.1 MB 2.2 MB/s eta 0:00:02\n",
      "   --------------------------- ------------ 8.4/12.1 MB 2.2 MB/s eta 0:00:02\n",
      "   ---------------------------- ----------- 8.5/12.1 MB 2.2 MB/s eta 0:00:02\n",
      "   ---------------------------- ----------- 8.6/12.1 MB 2.2 MB/s eta 0:00:02\n",
      "   ---------------------------- ----------- 8.7/12.1 MB 2.2 MB/s eta 0:00:02\n",
      "   ----------------------------- ---------- 8.8/12.1 MB 2.2 MB/s eta 0:00:02\n",
      "   ----------------------------- ---------- 8.9/12.1 MB 2.2 MB/s eta 0:00:02\n",
      "   ----------------------------- ---------- 9.0/12.1 MB 2.2 MB/s eta 0:00:02\n",
      "   ------------------------------ --------- 9.1/12.1 MB 2.2 MB/s eta 0:00:02\n",
      "   ------------------------------ --------- 9.2/12.1 MB 2.2 MB/s eta 0:00:02\n",
      "   ------------------------------ --------- 9.3/12.1 MB 2.2 MB/s eta 0:00:02\n",
      "   ------------------------------- -------- 9.4/12.1 MB 2.2 MB/s eta 0:00:02\n",
      "   ------------------------------- -------- 9.5/12.1 MB 2.2 MB/s eta 0:00:02\n",
      "   ------------------------------- -------- 9.5/12.1 MB 2.2 MB/s eta 0:00:02\n",
      "   -------------------------------- ------- 9.7/12.1 MB 2.2 MB/s eta 0:00:02\n",
      "   -------------------------------- ------- 9.7/12.1 MB 2.2 MB/s eta 0:00:02\n",
      "   -------------------------------- ------- 9.7/12.1 MB 2.1 MB/s eta 0:00:02\n",
      "   -------------------------------- ------- 9.9/12.1 MB 2.1 MB/s eta 0:00:02\n",
      "   --------------------------------- ------ 10.0/12.1 MB 2.2 MB/s eta 0:00:01\n",
      "   --------------------------------- ------ 10.1/12.1 MB 2.1 MB/s eta 0:00:01\n",
      "   --------------------------------- ------ 10.2/12.1 MB 2.2 MB/s eta 0:00:01\n",
      "   ---------------------------------- ----- 10.3/12.1 MB 2.2 MB/s eta 0:00:01\n",
      "   ---------------------------------- ----- 10.3/12.1 MB 2.2 MB/s eta 0:00:01\n",
      "   ---------------------------------- ----- 10.5/12.1 MB 2.1 MB/s eta 0:00:01\n",
      "   ----------------------------------- ---- 10.6/12.1 MB 2.2 MB/s eta 0:00:01\n",
      "   ----------------------------------- ---- 10.7/12.1 MB 2.2 MB/s eta 0:00:01\n",
      "   ----------------------------------- ---- 10.7/12.1 MB 2.1 MB/s eta 0:00:01\n",
      "   ------------------------------------ --- 10.9/12.1 MB 2.2 MB/s eta 0:00:01\n",
      "   ------------------------------------ --- 11.0/12.1 MB 2.2 MB/s eta 0:00:01\n",
      "   ------------------------------------ --- 11.0/12.1 MB 2.2 MB/s eta 0:00:01\n",
      "   ------------------------------------ --- 11.2/12.1 MB 2.2 MB/s eta 0:00:01\n",
      "   ------------------------------------- -- 11.3/12.1 MB 2.2 MB/s eta 0:00:01\n",
      "   ------------------------------------- -- 11.4/12.1 MB 2.2 MB/s eta 0:00:01\n",
      "   ------------------------------------- -- 11.4/12.1 MB 2.1 MB/s eta 0:00:01\n",
      "   -------------------------------------- - 11.6/12.1 MB 2.2 MB/s eta 0:00:01\n",
      "   -------------------------------------- - 11.7/12.1 MB 2.2 MB/s eta 0:00:01\n",
      "   -------------------------------------- - 11.7/12.1 MB 2.2 MB/s eta 0:00:01\n",
      "   -------------------------------------- - 11.7/12.1 MB 2.1 MB/s eta 0:00:01\n",
      "   ---------------------------------------  11.8/12.1 MB 2.1 MB/s eta 0:00:01\n",
      "   ---------------------------------------  11.8/12.1 MB 2.1 MB/s eta 0:00:01\n",
      "   ---------------------------------------  12.0/12.1 MB 2.1 MB/s eta 0:00:01\n",
      "   ---------------------------------------  12.1/12.1 MB 2.1 MB/s eta 0:00:01\n",
      "   ---------------------------------------  12.1/12.1 MB 2.1 MB/s eta 0:00:01\n",
      "   ---------------------------------------- 12.1/12.1 MB 2.1 MB/s eta 0:00:00\n",
      "Downloading catalogue-2.0.10-py3-none-any.whl (17 kB)\n",
      "Downloading cymem-2.0.8-cp310-cp310-win_amd64.whl (39 kB)\n",
      "Downloading murmurhash-1.0.10-cp310-cp310-win_amd64.whl (25 kB)\n",
      "Downloading preshed-3.0.9-cp310-cp310-win_amd64.whl (122 kB)\n",
      "   ---------------------------------------- 0.0/122.2 kB ? eta -:--:--\n",
      "   -------------------- ------------------- 61.4/122.2 kB 1.7 MB/s eta 0:00:01\n",
      "   ---------------------------------------- 122.2/122.2 kB 1.8 MB/s eta 0:00:00\n",
      "Downloading pydantic-2.5.3-py3-none-any.whl (381 kB)\n",
      "   ---------------------------------------- 0.0/381.9 kB ? eta -:--:--\n",
      "   ----------- ---------------------------- 112.6/381.9 kB 3.3 MB/s eta 0:00:01\n",
      "   ------------------------------ --------- 286.7/381.9 kB 3.5 MB/s eta 0:00:01\n",
      "   ----------------------------------- ---- 337.9/381.9 kB 3.5 MB/s eta 0:00:01\n",
      "   ---------------------------------------  378.9/381.9 kB 2.1 MB/s eta 0:00:01\n",
      "   ---------------------------------------- 381.9/381.9 kB 2.0 MB/s eta 0:00:00\n",
      "Downloading pydantic_core-2.14.6-cp310-none-win_amd64.whl (1.9 MB)\n",
      "   ---------------------------------------- 0.0/1.9 MB ? eta -:--:--\n",
      "   --- ------------------------------------ 0.2/1.9 MB 5.3 MB/s eta 0:00:01\n",
      "   ----- ---------------------------------- 0.3/1.9 MB 4.0 MB/s eta 0:00:01\n",
      "   ------ --------------------------------- 0.3/1.9 MB 2.3 MB/s eta 0:00:01\n",
      "   ---------- ----------------------------- 0.5/1.9 MB 2.8 MB/s eta 0:00:01\n",
      "   ------------ --------------------------- 0.6/1.9 MB 2.7 MB/s eta 0:00:01\n",
      "   --------------- ------------------------ 0.7/1.9 MB 2.7 MB/s eta 0:00:01\n",
      "   ----------------- ---------------------- 0.8/1.9 MB 2.7 MB/s eta 0:00:01\n",
      "   --------------------- ------------------ 1.0/1.9 MB 2.7 MB/s eta 0:00:01\n",
      "   --------------------- ------------------ 1.0/1.9 MB 2.7 MB/s eta 0:00:01\n",
      "   ------------------------ --------------- 1.2/1.9 MB 2.4 MB/s eta 0:00:01\n",
      "   -------------------------- ------------- 1.2/1.9 MB 2.5 MB/s eta 0:00:01\n",
      "   ----------------------------- ---------- 1.4/1.9 MB 2.4 MB/s eta 0:00:01\n",
      "   -------------------------------- ------- 1.5/1.9 MB 2.5 MB/s eta 0:00:01\n",
      "   ----------------------------------- ---- 1.7/1.9 MB 2.5 MB/s eta 0:00:01\n",
      "   ------------------------------------- -- 1.8/1.9 MB 2.5 MB/s eta 0:00:01\n",
      "   ---------------------------------------  1.9/1.9 MB 2.6 MB/s eta 0:00:01\n",
      "   ---------------------------------------- 1.9/1.9 MB 2.5 MB/s eta 0:00:00\n",
      "Downloading smart_open-6.4.0-py3-none-any.whl (57 kB)\n",
      "   ---------------------------------------- 0.0/57.0 kB ? eta -:--:--\n",
      "   ---------------------------------------- 57.0/57.0 kB 3.1 MB/s eta 0:00:00\n",
      "Downloading spacy_loggers-1.0.5-py3-none-any.whl (22 kB)\n",
      "Downloading srsly-2.4.8-cp310-cp310-win_amd64.whl (481 kB)\n",
      "   ---------------------------------------- 0.0/481.9 kB ? eta -:--:--\n",
      "   ------ --------------------------------- 81.9/481.9 kB 4.8 MB/s eta 0:00:01\n",
      "   ---------------- ----------------------- 194.6/481.9 kB 3.0 MB/s eta 0:00:01\n",
      "   ----------------------------- ---------- 358.4/481.9 kB 2.8 MB/s eta 0:00:01\n",
      "   ------------------------------------ --- 440.3/481.9 kB 2.8 MB/s eta 0:00:01\n",
      "   ---------------------------------------- 481.9/481.9 kB 2.5 MB/s eta 0:00:00\n",
      "Downloading thinc-8.2.2-cp310-cp310-win_amd64.whl (1.5 MB)\n",
      "   ---------------------------------------- 0.0/1.5 MB ? eta -:--:--\n",
      "   - -------------------------------------- 0.1/1.5 MB 2.0 MB/s eta 0:00:01\n",
      "   ----- ---------------------------------- 0.2/1.5 MB 2.4 MB/s eta 0:00:01\n",
      "   --------- ------------------------------ 0.4/1.5 MB 2.5 MB/s eta 0:00:01\n",
      "   ----------- ---------------------------- 0.4/1.5 MB 2.4 MB/s eta 0:00:01\n",
      "   ------------ --------------------------- 0.5/1.5 MB 2.2 MB/s eta 0:00:01\n",
      "   ---------------- ----------------------- 0.6/1.5 MB 2.2 MB/s eta 0:00:01\n",
      "   --------------------- ------------------ 0.8/1.5 MB 2.3 MB/s eta 0:00:01\n",
      "   ------------------------ --------------- 0.9/1.5 MB 2.5 MB/s eta 0:00:01\n",
      "   -------------------------- ------------- 1.0/1.5 MB 2.5 MB/s eta 0:00:01\n",
      "   ----------------------------- ---------- 1.1/1.5 MB 2.4 MB/s eta 0:00:01\n",
      "   ------------------------------- -------- 1.2/1.5 MB 2.4 MB/s eta 0:00:01\n",
      "   --------------------------------- ------ 1.3/1.5 MB 2.3 MB/s eta 0:00:01\n",
      "   ------------------------------------- -- 1.4/1.5 MB 2.3 MB/s eta 0:00:01\n",
      "   ---------------------------------------- 1.5/1.5 MB 2.3 MB/s eta 0:00:00\n",
      "Downloading wasabi-1.1.2-py3-none-any.whl (27 kB)\n",
      "Downloading weasel-0.3.4-py3-none-any.whl (50 kB)\n",
      "   ---------------------------------------- 0.0/50.1 kB ? eta -:--:--\n",
      "   ---------------------------------------- 50.1/50.1 kB 2.5 MB/s eta 0:00:00\n",
      "Downloading annotated_types-0.6.0-py3-none-any.whl (12 kB)\n",
      "Downloading blis-0.7.11-cp310-cp310-win_amd64.whl (6.6 MB)\n",
      "   ---------------------------------------- 0.0/6.6 MB ? eta -:--:--\n",
      "   - -------------------------------------- 0.2/6.6 MB 3.5 MB/s eta 0:00:02\n",
      "   - -------------------------------------- 0.2/6.6 MB 3.0 MB/s eta 0:00:03\n",
      "   - -------------------------------------- 0.3/6.6 MB 2.0 MB/s eta 0:00:04\n",
      "   -- ------------------------------------- 0.4/6.6 MB 2.1 MB/s eta 0:00:04\n",
      "   --- ------------------------------------ 0.5/6.6 MB 2.2 MB/s eta 0:00:03\n",
      "   --- ------------------------------------ 0.6/6.6 MB 2.3 MB/s eta 0:00:03\n",
      "   ---- ----------------------------------- 0.7/6.6 MB 2.1 MB/s eta 0:00:03\n",
      "   ----- ---------------------------------- 0.8/6.6 MB 2.2 MB/s eta 0:00:03\n",
      "   ----- ---------------------------------- 1.0/6.6 MB 2.3 MB/s eta 0:00:03\n",
      "   ------ --------------------------------- 1.1/6.6 MB 2.4 MB/s eta 0:00:03\n",
      "   ------- -------------------------------- 1.2/6.6 MB 2.5 MB/s eta 0:00:03\n",
      "   -------- ------------------------------- 1.3/6.6 MB 2.3 MB/s eta 0:00:03\n",
      "   -------- ------------------------------- 1.5/6.6 MB 2.4 MB/s eta 0:00:03\n",
      "   --------- ------------------------------ 1.6/6.6 MB 2.5 MB/s eta 0:00:02\n",
      "   ---------- ----------------------------- 1.8/6.6 MB 2.5 MB/s eta 0:00:02\n",
      "   ---------- ----------------------------- 1.8/6.6 MB 2.5 MB/s eta 0:00:02\n",
      "   ----------- ---------------------------- 1.9/6.6 MB 2.3 MB/s eta 0:00:03\n",
      "   ------------ --------------------------- 2.0/6.6 MB 2.4 MB/s eta 0:00:02\n",
      "   ------------ --------------------------- 2.1/6.6 MB 2.4 MB/s eta 0:00:02\n",
      "   ------------ --------------------------- 2.1/6.6 MB 2.3 MB/s eta 0:00:02\n",
      "   ------------- -------------------------- 2.3/6.6 MB 2.3 MB/s eta 0:00:02\n",
      "   -------------- ------------------------- 2.4/6.6 MB 2.3 MB/s eta 0:00:02\n",
      "   -------------- ------------------------- 2.5/6.6 MB 2.3 MB/s eta 0:00:02\n",
      "   --------------- ------------------------ 2.5/6.6 MB 2.2 MB/s eta 0:00:02\n",
      "   ---------------- ----------------------- 2.7/6.6 MB 2.3 MB/s eta 0:00:02\n",
      "   ----------------- ---------------------- 2.8/6.6 MB 2.3 MB/s eta 0:00:02\n",
      "   ------------------ --------------------- 3.0/6.6 MB 2.4 MB/s eta 0:00:02\n",
      "   ------------------ --------------------- 3.1/6.6 MB 2.4 MB/s eta 0:00:02\n",
      "   ------------------- -------------------- 3.3/6.6 MB 2.4 MB/s eta 0:00:02\n",
      "   -------------------- ------------------- 3.5/6.6 MB 2.5 MB/s eta 0:00:02\n",
      "   --------------------- ------------------ 3.6/6.6 MB 2.4 MB/s eta 0:00:02\n",
      "   ---------------------- ----------------- 3.7/6.6 MB 2.5 MB/s eta 0:00:02\n",
      "   ---------------------- ----------------- 3.7/6.6 MB 2.5 MB/s eta 0:00:02\n",
      "   ----------------------- ---------------- 3.9/6.6 MB 2.4 MB/s eta 0:00:02\n",
      "   ------------------------ --------------- 4.0/6.6 MB 2.5 MB/s eta 0:00:02\n",
      "   ------------------------- -------------- 4.2/6.6 MB 2.5 MB/s eta 0:00:01\n",
      "   -------------------------- ------------- 4.3/6.6 MB 2.5 MB/s eta 0:00:01\n",
      "   --------------------------- ------------ 4.5/6.6 MB 2.5 MB/s eta 0:00:01\n",
      "   --------------------------- ------------ 4.6/6.6 MB 2.5 MB/s eta 0:00:01\n",
      "   ---------------------------- ----------- 4.6/6.6 MB 2.5 MB/s eta 0:00:01\n",
      "   ---------------------------- ----------- 4.8/6.6 MB 2.5 MB/s eta 0:00:01\n",
      "   ----------------------------- ---------- 4.9/6.6 MB 2.5 MB/s eta 0:00:01\n",
      "   ------------------------------ --------- 5.0/6.6 MB 2.5 MB/s eta 0:00:01\n",
      "   ------------------------------ --------- 5.0/6.6 MB 2.5 MB/s eta 0:00:01\n",
      "   ------------------------------ --------- 5.1/6.6 MB 2.4 MB/s eta 0:00:01\n",
      "   ------------------------------- -------- 5.3/6.6 MB 2.4 MB/s eta 0:00:01\n",
      "   -------------------------------- ------- 5.4/6.6 MB 2.5 MB/s eta 0:00:01\n",
      "   --------------------------------- ------ 5.6/6.6 MB 2.5 MB/s eta 0:00:01\n",
      "   ---------------------------------- ----- 5.7/6.6 MB 2.5 MB/s eta 0:00:01\n",
      "   ----------------------------------- ---- 5.8/6.6 MB 2.5 MB/s eta 0:00:01\n",
      "   ------------------------------------ --- 6.0/6.6 MB 2.5 MB/s eta 0:00:01\n",
      "   ------------------------------------ --- 6.0/6.6 MB 2.5 MB/s eta 0:00:01\n",
      "   ------------------------------------- -- 6.1/6.6 MB 2.5 MB/s eta 0:00:01\n",
      "   -------------------------------------- - 6.3/6.6 MB 2.5 MB/s eta 0:00:01\n",
      "   ---------------------------------------  6.5/6.6 MB 2.5 MB/s eta 0:00:01\n",
      "   ---------------------------------------  6.5/6.6 MB 2.5 MB/s eta 0:00:01\n",
      "   ---------------------------------------  6.6/6.6 MB 2.5 MB/s eta 0:00:01\n",
      "   ---------------------------------------- 6.6/6.6 MB 2.5 MB/s eta 0:00:00\n",
      "Downloading cloudpathlib-0.16.0-py3-none-any.whl (45 kB)\n",
      "   ---------------------------------------- 0.0/45.0 kB ? eta -:--:--\n",
      "   ---------------------------------------- 45.0/45.0 kB 2.2 MB/s eta 0:00:00\n",
      "Downloading confection-0.1.4-py3-none-any.whl (35 kB)\n",
      "Installing collected packages: cymem, wasabi, spacy-loggers, spacy-legacy, smart-open, pydantic-core, murmurhash, langcodes, cloudpathlib, catalogue, blis, annotated-types, typer, srsly, pydantic, preshed, confection, weasel, thinc, spacy\n",
      "Successfully installed annotated-types-0.6.0 blis-0.7.11 catalogue-2.0.10 cloudpathlib-0.16.0 confection-0.1.4 cymem-2.0.8 langcodes-3.3.0 murmurhash-1.0.10 preshed-3.0.9 pydantic-2.5.3 pydantic-core-2.14.6 smart-open-6.4.0 spacy-3.7.2 spacy-legacy-3.0.12 spacy-loggers-1.0.5 srsly-2.4.8 thinc-8.2.2 typer-0.9.0 wasabi-1.1.2 weasel-0.3.4\n",
      "Note: you may need to restart the kernel to use updated packages.\n"
     ]
    },
    {
     "name": "stderr",
     "output_type": "stream",
     "text": [
      "\n",
      "[notice] A new release of pip is available: 23.3.1 -> 23.3.2\n",
      "[notice] To update, run: python.exe -m pip install --upgrade pip\n"
     ]
    }
   ],
   "source": [
    "pip install spacy"
   ]
  },
  {
   "cell_type": "code",
   "execution_count": 21,
   "id": "cd4a0626-4469-45f3-8c3e-969abfea0a74",
   "metadata": {},
   "outputs": [],
   "source": [
    "nlp = spacy.load('en_core_web_sm')"
   ]
  },
  {
   "cell_type": "code",
   "execution_count": 23,
   "id": "9f1cc41b-6b13-49cd-9391-6af5b7fcb0f1",
   "metadata": {},
   "outputs": [
    {
     "data": {
      "text/plain": [
       "'i am ansiya. far 5km ansiya4@gmail.com'"
      ]
     },
     "execution_count": 23,
     "metadata": {},
     "output_type": "execute_result"
    }
   ],
   "source": [
    "s4"
   ]
  },
  {
   "cell_type": "code",
   "execution_count": 22,
   "id": "c06826be-63a0-4b70-b4a2-b57e50f4460f",
   "metadata": {},
   "outputs": [
    {
     "name": "stdout",
     "output_type": "stream",
     "text": [
      "i\n",
      "am\n",
      "ansiya\n",
      ".\n",
      "far\n",
      "5\n",
      "km\n",
      "ansiya4@gmail.com\n"
     ]
    }
   ],
   "source": [
    "for token in nlp(s4):\n",
    "    print(token)"
   ]
  },
  {
   "cell_type": "code",
   "execution_count": null,
   "id": "be31f162-04ef-48fc-bb7e-cbce01ac5ddb",
   "metadata": {},
   "outputs": [],
   "source": []
  }
 ],
 "metadata": {
  "kernelspec": {
   "display_name": "Python 3 (ipykernel)",
   "language": "python",
   "name": "python3"
  },
  "language_info": {
   "codemirror_mode": {
    "name": "ipython",
    "version": 3
   },
   "file_extension": ".py",
   "mimetype": "text/x-python",
   "name": "python",
   "nbconvert_exporter": "python",
   "pygments_lexer": "ipython3",
   "version": "3.10.10"
  }
 },
 "nbformat": 4,
 "nbformat_minor": 5
}
