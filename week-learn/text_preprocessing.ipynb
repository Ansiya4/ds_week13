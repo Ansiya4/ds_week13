{
 "cells": [
  {
   "cell_type": "code",
   "execution_count": 1,
   "id": "8f929835-3b10-4e3b-ab7e-0abc23be2d4e",
   "metadata": {},
   "outputs": [],
   "source": [
    "import numpy as np\n",
    "import pandas as pd\n"
   ]
  },
  {
   "cell_type": "code",
   "execution_count": 2,
   "id": "e91b2eea-1214-497c-b06f-697ffefeb228",
   "metadata": {},
   "outputs": [],
   "source": [
    "df=pd.read_csv('dataset/IMDB Dataset.csv')"
   ]
  },
  {
   "cell_type": "code",
   "execution_count": 3,
   "id": "dc8b2868-0c4d-454a-aa28-ddd2c85fb964",
   "metadata": {},
   "outputs": [
    {
     "data": {
      "text/html": [
       "<div>\n",
       "<style scoped>\n",
       "    .dataframe tbody tr th:only-of-type {\n",
       "        vertical-align: middle;\n",
       "    }\n",
       "\n",
       "    .dataframe tbody tr th {\n",
       "        vertical-align: top;\n",
       "    }\n",
       "\n",
       "    .dataframe thead th {\n",
       "        text-align: right;\n",
       "    }\n",
       "</style>\n",
       "<table border=\"1\" class=\"dataframe\">\n",
       "  <thead>\n",
       "    <tr style=\"text-align: right;\">\n",
       "      <th></th>\n",
       "      <th>review</th>\n",
       "      <th>sentiment</th>\n",
       "    </tr>\n",
       "  </thead>\n",
       "  <tbody>\n",
       "    <tr>\n",
       "      <th>0</th>\n",
       "      <td>One of the other reviewers has mentioned that ...</td>\n",
       "      <td>positive</td>\n",
       "    </tr>\n",
       "    <tr>\n",
       "      <th>1</th>\n",
       "      <td>A wonderful little production. &lt;br /&gt;&lt;br /&gt;The...</td>\n",
       "      <td>positive</td>\n",
       "    </tr>\n",
       "    <tr>\n",
       "      <th>2</th>\n",
       "      <td>I thought this was a wonderful way to spend ti...</td>\n",
       "      <td>positive</td>\n",
       "    </tr>\n",
       "    <tr>\n",
       "      <th>3</th>\n",
       "      <td>Basically there's a family where a little boy ...</td>\n",
       "      <td>negative</td>\n",
       "    </tr>\n",
       "    <tr>\n",
       "      <th>4</th>\n",
       "      <td>Petter Mattei's \"Love in the Time of Money\" is...</td>\n",
       "      <td>positive</td>\n",
       "    </tr>\n",
       "  </tbody>\n",
       "</table>\n",
       "</div>"
      ],
      "text/plain": [
       "                                              review sentiment\n",
       "0  One of the other reviewers has mentioned that ...  positive\n",
       "1  A wonderful little production. <br /><br />The...  positive\n",
       "2  I thought this was a wonderful way to spend ti...  positive\n",
       "3  Basically there's a family where a little boy ...  negative\n",
       "4  Petter Mattei's \"Love in the Time of Money\" is...  positive"
      ]
     },
     "execution_count": 3,
     "metadata": {},
     "output_type": "execute_result"
    }
   ],
   "source": [
    "df.head()"
   ]
  },
  {
   "cell_type": "code",
   "execution_count": 4,
   "id": "7f9fb91c-0062-4b36-b9d0-25c452eec0fe",
   "metadata": {},
   "outputs": [
    {
     "data": {
      "text/plain": [
       "\"basically there's a family where a little boy (jake) thinks there's a zombie in his closet & his parents are fighting all the time.<br /><br />this movie is slower than a soap opera... and suddenly, jake decides to become rambo and kill the zombie.<br /><br />ok, first of all when you're going to make a film you must decide if its a thriller or a drama! as a drama the movie is watchable. parents are divorcing & arguing like in real life. and then we have jake with his closet which totally ruins all the film! i expected to see a boogeyman similar movie, and instead i watched a drama with some meaningless thriller spots.<br /><br />3 out of 10 just for the well playing parents & descent dialogs. as for the shots with jake: just ignore them.\""
      ]
     },
     "execution_count": 4,
     "metadata": {},
     "output_type": "execute_result"
    }
   ],
   "source": [
    "df['review'][3].lower()"
   ]
  },
  {
   "cell_type": "code",
   "execution_count": 5,
   "id": "17006466-3078-4b9c-96c0-729d729055d6",
   "metadata": {},
   "outputs": [],
   "source": [
    "df=df['review'].str.lower()"
   ]
  },
  {
   "cell_type": "code",
   "execution_count": 6,
   "id": "43b55330-946c-449b-983c-1f325a1e71df",
   "metadata": {},
   "outputs": [
    {
     "data": {
      "text/plain": [
       "0    one of the other reviewers has mentioned that ...\n",
       "1    a wonderful little production. <br /><br />the...\n",
       "2    i thought this was a wonderful way to spend ti...\n",
       "3    basically there's a family where a little boy ...\n",
       "4    petter mattei's \"love in the time of money\" is...\n",
       "Name: review, dtype: object"
      ]
     },
     "execution_count": 6,
     "metadata": {},
     "output_type": "execute_result"
    }
   ],
   "source": [
    "df.head()"
   ]
  },
  {
   "cell_type": "code",
   "execution_count": null,
   "id": "d4761e70-d674-4f16-8fe9-ecc122bcad08",
   "metadata": {},
   "outputs": [],
   "source": []
  },
  {
   "cell_type": "code",
   "execution_count": null,
   "id": "dba4d26a-4b07-4382-8881-9a2f24f2ecf0",
   "metadata": {},
   "outputs": [],
   "source": []
  },
  {
   "cell_type": "code",
   "execution_count": null,
   "id": "e39f1e6e-df6e-42b5-a926-934b063115a4",
   "metadata": {},
   "outputs": [],
   "source": []
  },
  {
   "cell_type": "code",
   "execution_count": 7,
   "id": "205beac4-0241-41b0-bf9d-585a712822af",
   "metadata": {},
   "outputs": [],
   "source": [
    "import re"
   ]
  },
  {
   "cell_type": "code",
   "execution_count": 8,
   "id": "c89748b4-3d2d-464e-b143-5706c1c2fa63",
   "metadata": {},
   "outputs": [],
   "source": [
    "def remove_html_tags(text):\n",
    "    pattern = re.compile('<.*?>')\n",
    "    \n",
    "    return pattern.sub(r'',text)"
   ]
  },
  {
   "cell_type": "code",
   "execution_count": 9,
   "id": "7455d50c-f92a-4b16-8844-7a6b44af9027",
   "metadata": {},
   "outputs": [],
   "source": [
    "text = \"<p>This is a paragraph with <a href='https://www.example.com'>a link</a> and some <strong>strong</strong> text.</p>\""
   ]
  },
  {
   "cell_type": "code",
   "execution_count": 10,
   "id": "03053f70-9c03-42e5-b754-7b9eb8cd6de5",
   "metadata": {},
   "outputs": [
    {
     "data": {
      "text/plain": [
       "'This is a paragraph with a link and some strong text.'"
      ]
     },
     "execution_count": 10,
     "metadata": {},
     "output_type": "execute_result"
    }
   ],
   "source": [
    "remove_html_tags(text)"
   ]
  },
  {
   "cell_type": "code",
   "execution_count": 11,
   "id": "a9c59526-048e-44c6-bbe2-61ab9a80fb8d",
   "metadata": {},
   "outputs": [],
   "source": [
    "df=pd.read_csv('dataset/IMDB Dataset.csv')"
   ]
  },
  {
   "cell_type": "code",
   "execution_count": 12,
   "id": "22cf6a31-cfe7-4989-9c53-7c313ee14c52",
   "metadata": {},
   "outputs": [],
   "source": [
    "df=df['review'].apply(remove_html_tags)"
   ]
  },
  {
   "cell_type": "code",
   "execution_count": 13,
   "id": "95829abd-89b4-42ba-bc33-d1782b605852",
   "metadata": {},
   "outputs": [],
   "source": [
    "def remove_urls(text):\n",
    "    # This regular expression matches URLs\n",
    "    url_pattern = re.compile(r'https?://\\S+|www\\.\\S+')\n",
    "\n",
    "    # Replace URLs with an empty string\n",
    "    clean_text = re.sub(url_pattern, '', text)\n",
    "    return clean_text"
   ]
  },
  {
   "cell_type": "code",
   "execution_count": 14,
   "id": "b8dc7384-3c3c-454f-bf5b-28709eb8dd83",
   "metadata": {},
   "outputs": [
    {
     "data": {
      "text/plain": [
       "\"<p>This is a paragraph with <a href=' link</a> and some <strong>strong</strong> text.</p>\""
      ]
     },
     "execution_count": 14,
     "metadata": {},
     "output_type": "execute_result"
    }
   ],
   "source": [
    "remove_urls(text)"
   ]
  },
  {
   "cell_type": "code",
   "execution_count": 15,
   "id": "2bf76251-feae-440d-bcdd-fab19e2adc84",
   "metadata": {},
   "outputs": [
    {
     "data": {
      "text/plain": [
       "\"<p>This is a paragraph with <a href='https://www.example.com'>a link</a> and some <strong>strong</strong> text.</p>\""
      ]
     },
     "execution_count": 15,
     "metadata": {},
     "output_type": "execute_result"
    }
   ],
   "source": [
    "text"
   ]
  },
  {
   "cell_type": "markdown",
   "id": "7918efbd-f55b-4f81-9d09-fe20b718601b",
   "metadata": {},
   "source": [
    "### remove punctuations"
   ]
  },
  {
   "cell_type": "code",
   "execution_count": 32,
   "id": "0abb5533-b62e-43fa-aa9e-0af4f9aff066",
   "metadata": {},
   "outputs": [
    {
     "data": {
      "text/plain": [
       "'!\"#$%&\\'()*+,-./:;<=>?@[\\\\]^_`{|}~'"
      ]
     },
     "execution_count": 32,
     "metadata": {},
     "output_type": "execute_result"
    }
   ],
   "source": [
    "import string,time\n",
    "string.punctuation\n"
   ]
  },
  {
   "cell_type": "code",
   "execution_count": 33,
   "id": "54023b0a-5d2c-491a-b504-5391947988e4",
   "metadata": {},
   "outputs": [],
   "source": [
    "exclude=string.punctuation"
   ]
  },
  {
   "cell_type": "code",
   "execution_count": 34,
   "id": "3e2e2702-13e0-4f19-8a10-96b2b0bbf876",
   "metadata": {},
   "outputs": [],
   "source": [
    "def remove_punc(text):\n",
    "    for char in exclude:\n",
    "        text=text.replace(char,'')\n",
    "    return text"
   ]
  },
  {
   "cell_type": "code",
   "execution_count": 35,
   "id": "636840ce-b899-46cd-99ba-25fdd054bbfd",
   "metadata": {},
   "outputs": [],
   "source": [
    "text ='string with, punctuations.................!!!!!!!!!!!!!!?'"
   ]
  },
  {
   "cell_type": "code",
   "execution_count": 36,
   "id": "d52c02a0-0518-409f-8200-7dd2d91765ef",
   "metadata": {},
   "outputs": [
    {
     "name": "stdout",
     "output_type": "stream",
     "text": [
      "string with punctuations\n"
     ]
    }
   ],
   "source": [
    "start=time.time()\n",
    "print(remove_punc(text))\n",
    "time1=time.time()-start"
   ]
  },
  {
   "cell_type": "code",
   "execution_count": 37,
   "id": "f191a8bc-632f-4ffd-8ff1-40a50ebb28c8",
   "metadata": {},
   "outputs": [
    {
     "name": "stdout",
     "output_type": "stream",
     "text": [
      "0.0\n"
     ]
    }
   ],
   "source": [
    "print(time1)"
   ]
  },
  {
   "cell_type": "code",
   "execution_count": 42,
   "id": "b9c0c47c-b2bc-48d8-b7c7-51aa8a942dc9",
   "metadata": {},
   "outputs": [],
   "source": [
    "def remove_punc1(text):\n",
    "    return text.translate(str.maketrans('','',exclude))"
   ]
  },
  {
   "cell_type": "code",
   "execution_count": 43,
   "id": "31f072bf-79f4-4861-bca4-25333dcc7129",
   "metadata": {},
   "outputs": [],
   "source": [
    "text ='string with, punctuations?'"
   ]
  },
  {
   "cell_type": "code",
   "execution_count": 44,
   "id": "6bdab4a3-645a-485a-98c5-47ae6adef35a",
   "metadata": {},
   "outputs": [],
   "source": [
    "start=time.time()"
   ]
  },
  {
   "cell_type": "code",
   "execution_count": 45,
   "id": "ac180e0b-c926-4fd1-a920-75082d64917a",
   "metadata": {},
   "outputs": [
    {
     "name": "stdout",
     "output_type": "stream",
     "text": [
      "string with punctuations\n"
     ]
    }
   ],
   "source": [
    "print(remove_punc1(text))\n",
    "time2=time.time()-start"
   ]
  },
  {
   "cell_type": "code",
   "execution_count": 46,
   "id": "c6a91439-3ee1-4a5b-84f9-520655d66647",
   "metadata": {},
   "outputs": [
    {
     "name": "stdout",
     "output_type": "stream",
     "text": [
      "0.4550466537475586\n"
     ]
    }
   ],
   "source": [
    "print(time2)"
   ]
  },
  {
   "cell_type": "code",
   "execution_count": 47,
   "id": "bc27762b-4f5f-48c9-946e-13369c2046b9",
   "metadata": {},
   "outputs": [
    {
     "data": {
      "text/plain": [
       "0.0"
      ]
     },
     "execution_count": 47,
     "metadata": {},
     "output_type": "execute_result"
    }
   ],
   "source": [
    "time1/time2"
   ]
  },
  {
   "cell_type": "code",
   "execution_count": 48,
   "id": "8e09e556-9d52-4e8e-a862-fc54a18b9139",
   "metadata": {},
   "outputs": [],
   "source": [
    "df=pd.read_csv('dataset/IMDB Dataset.csv')"
   ]
  },
  {
   "cell_type": "code",
   "execution_count": null,
   "id": "0b038953-28ec-42b6-87a2-f8bfffa0c892",
   "metadata": {},
   "outputs": [],
   "source": [
    "df=df['review'].apply(remove_punc1)"
   ]
  },
  {
   "cell_type": "markdown",
   "id": "d60248bc-6794-44e0-a867-0fe4adf81796",
   "metadata": {},
   "source": [
    "### remove chatwords"
   ]
  },
  {
   "cell_type": "code",
   "execution_count": null,
   "id": "eae90c7e-1180-441e-aa4a-d56c44ba1c3a",
   "metadata": {},
   "outputs": [],
   "source": [
    "chat_words = {\n",
    "    'LOL': 'Laugh Out Loud',\n",
    "    'BRB': 'Be Right Back',\n",
    "    'OMG': 'Oh My God',\n",
    "    'TTYL': 'Talk To You Later',\n",
    "    'GTG': 'Got To Go',\n",
    "    'ICYMI': 'In Case You Missed It',\n",
    "    'IMO': 'In My Opinion',\n",
    "    'IMHO': 'In My Humble Opinion',\n",
    "    'FYI': 'For Your Information',\n",
    "    'BTW': 'By The Way',\n",
    "    'ROFL': 'Rolling On the Floor Laughing',\n",
    "    'DM': 'Direct Message',\n",
    "    'FB': 'Facebook',\n",
    "    'IG': 'Instagram',\n",
    "    'YT': 'YouTube',\n",
    "    'GR8': 'Great',\n",
    "    'CU': 'See You',\n",
    "    'AFK': 'Away From Keyboard',\n",
    "    'BFF': 'Best Friends Forever',\n",
    "    'SMH': 'Shaking My Head',\n",
    "    'IDK': 'I Don\\'t Know',\n",
    "    'TMI': 'Too Much Information',\n",
    "    'NP': 'No Problem',\n",
    "    'FOMO': 'Fear Of Missing Out',\n",
    "    'NSFW': 'Not Safe For Work'\n",
    "}"
   ]
  },
  {
   "cell_type": "code",
   "execution_count": null,
   "id": "da041ff1-a1e9-4c39-bd1c-9dc9f51fb42f",
   "metadata": {},
   "outputs": [],
   "source": [
    "chat_words"
   ]
  },
  {
   "cell_type": "code",
   "execution_count": null,
   "id": "e76c3d5c-6630-4880-97b1-1c3dc2aac78d",
   "metadata": {},
   "outputs": [],
   "source": [
    "def chat_conversion(text):\n",
    "    new_text=[]\n",
    "    for w in text.split():\n",
    "        if w.upper() in chat_words:\n",
    "            new_text.append(chat_words[w.upper()])\n",
    "        else:\n",
    "            new_text.append(w)\n",
    "    return \" \".join(new_text)"
   ]
  },
  {
   "cell_type": "code",
   "execution_count": null,
   "id": "f9bb0779-14f3-43b3-bb5c-6d77c5e7d94e",
   "metadata": {},
   "outputs": [],
   "source": [
    "chat_conversion('IMHO he the best')"
   ]
  },
  {
   "cell_type": "code",
   "execution_count": null,
   "id": "c37e0aec-903c-4cf5-a016-5436f1a63f74",
   "metadata": {},
   "outputs": [],
   "source": [
    "df=pd.read_csv('dataset/IMDB Dataset.csv')"
   ]
  },
  {
   "cell_type": "code",
   "execution_count": null,
   "id": "08ffd931-684d-4b4a-9f54-48874ffd9275",
   "metadata": {},
   "outputs": [],
   "source": [
    "df['review'].apply(chat_conversion)"
   ]
  },
  {
   "cell_type": "markdown",
   "id": "93c0062c-0030-4cc0-bc73-e99c3f227fde",
   "metadata": {},
   "source": [
    "### Spelling correction"
   ]
  },
  {
   "cell_type": "code",
   "execution_count": 11,
   "id": "e49f926d-a5e2-4310-9477-5a5c66b9f9d2",
   "metadata": {},
   "outputs": [
    {
     "name": "stdout",
     "output_type": "stream",
     "text": [
      "Requirement already satisfied: textblob in c:\\users\\hp\\appdata\\local\\programs\\python\\python310\\lib\\site-packages (0.17.1)Note: you may need to restart the kernel to use updated packages.\n",
      "\n",
      "Requirement already satisfied: nltk>=3.1 in c:\\users\\hp\\appdata\\local\\programs\\python\\python310\\lib\\site-packages (from textblob) (3.8.1)\n",
      "Requirement already satisfied: click in c:\\users\\hp\\appdata\\local\\programs\\python\\python310\\lib\\site-packages (from nltk>=3.1->textblob) (8.1.7)\n",
      "Requirement already satisfied: joblib in c:\\users\\hp\\appdata\\local\\programs\\python\\python310\\lib\\site-packages (from nltk>=3.1->textblob) (1.3.2)\n",
      "Requirement already satisfied: regex>=2021.8.3 in c:\\users\\hp\\appdata\\local\\programs\\python\\python310\\lib\\site-packages (from nltk>=3.1->textblob) (2023.12.25)\n",
      "Requirement already satisfied: tqdm in c:\\users\\hp\\appdata\\local\\programs\\python\\python310\\lib\\site-packages (from nltk>=3.1->textblob) (4.66.1)\n",
      "Requirement already satisfied: colorama in c:\\users\\hp\\appdata\\local\\programs\\python\\python310\\lib\\site-packages (from click->nltk>=3.1->textblob) (0.4.6)\n"
     ]
    }
   ],
   "source": [
    "pip install textblob"
   ]
  },
  {
   "cell_type": "code",
   "execution_count": 12,
   "id": "99ef3993-2d80-4b68-8264-b72d847d580f",
   "metadata": {},
   "outputs": [],
   "source": [
    "from textblob import TextBlob"
   ]
  },
  {
   "cell_type": "code",
   "execution_count": 13,
   "id": "24f8cab5-20f1-4737-b1b0-51622c416922",
   "metadata": {},
   "outputs": [],
   "source": [
    "wrong_text=\"certin wrong testt\""
   ]
  },
  {
   "cell_type": "code",
   "execution_count": 14,
   "id": "66366b69-f923-4ea1-9966-5a667e2dc168",
   "metadata": {},
   "outputs": [],
   "source": [
    "txt=TextBlob(wrong_text)"
   ]
  },
  {
   "cell_type": "code",
   "execution_count": 15,
   "id": "c99f174f-136f-4110-9ffd-327ec144a111",
   "metadata": {},
   "outputs": [
    {
     "data": {
      "text/plain": [
       "'certain wrong test'"
      ]
     },
     "execution_count": 15,
     "metadata": {},
     "output_type": "execute_result"
    }
   ],
   "source": [
    "txt.correct().string"
   ]
  },
  {
   "cell_type": "code",
   "execution_count": null,
   "id": "3ae62989-8f0f-48f6-bca5-bb614f4b3d03",
   "metadata": {},
   "outputs": [],
   "source": []
  },
  {
   "cell_type": "markdown",
   "id": "9924591f-5bee-400b-995f-1d413dc90dca",
   "metadata": {},
   "source": [
    "### remove stopwords"
   ]
  },
  {
   "cell_type": "code",
   "execution_count": 8,
   "id": "8c125088-c65b-4904-870d-461b457cf27d",
   "metadata": {},
   "outputs": [],
   "source": [
    "from nltk.corpus import stopwords\n"
   ]
  },
  {
   "cell_type": "code",
   "execution_count": 9,
   "id": "dda0e2ec-ac24-4f35-8004-1977309549f1",
   "metadata": {},
   "outputs": [
    {
     "name": "stderr",
     "output_type": "stream",
     "text": [
      "[nltk_data] Downloading package stopwords to\n",
      "[nltk_data]     C:\\Users\\hp\\AppData\\Roaming\\nltk_data...\n",
      "[nltk_data]   Package stopwords is already up-to-date!\n"
     ]
    },
    {
     "data": {
      "text/plain": [
       "True"
      ]
     },
     "execution_count": 9,
     "metadata": {},
     "output_type": "execute_result"
    }
   ],
   "source": [
    "import nltk\n",
    "nltk.download('stopwords')"
   ]
  },
  {
   "cell_type": "code",
   "execution_count": 10,
   "id": "2152f2d2-5a2f-4570-86fd-c6ba0c963711",
   "metadata": {},
   "outputs": [
    {
     "data": {
      "text/plain": [
       "['i',\n",
       " 'me',\n",
       " 'my',\n",
       " 'myself',\n",
       " 'we',\n",
       " 'our',\n",
       " 'ours',\n",
       " 'ourselves',\n",
       " 'you',\n",
       " \"you're\",\n",
       " \"you've\",\n",
       " \"you'll\",\n",
       " \"you'd\",\n",
       " 'your',\n",
       " 'yours',\n",
       " 'yourself',\n",
       " 'yourselves',\n",
       " 'he',\n",
       " 'him',\n",
       " 'his',\n",
       " 'himself',\n",
       " 'she',\n",
       " \"she's\",\n",
       " 'her',\n",
       " 'hers',\n",
       " 'herself',\n",
       " 'it',\n",
       " \"it's\",\n",
       " 'its',\n",
       " 'itself',\n",
       " 'they',\n",
       " 'them',\n",
       " 'their',\n",
       " 'theirs',\n",
       " 'themselves',\n",
       " 'what',\n",
       " 'which',\n",
       " 'who',\n",
       " 'whom',\n",
       " 'this',\n",
       " 'that',\n",
       " \"that'll\",\n",
       " 'these',\n",
       " 'those',\n",
       " 'am',\n",
       " 'is',\n",
       " 'are',\n",
       " 'was',\n",
       " 'were',\n",
       " 'be',\n",
       " 'been',\n",
       " 'being',\n",
       " 'have',\n",
       " 'has',\n",
       " 'had',\n",
       " 'having',\n",
       " 'do',\n",
       " 'does',\n",
       " 'did',\n",
       " 'doing',\n",
       " 'a',\n",
       " 'an',\n",
       " 'the',\n",
       " 'and',\n",
       " 'but',\n",
       " 'if',\n",
       " 'or',\n",
       " 'because',\n",
       " 'as',\n",
       " 'until',\n",
       " 'while',\n",
       " 'of',\n",
       " 'at',\n",
       " 'by',\n",
       " 'for',\n",
       " 'with',\n",
       " 'about',\n",
       " 'against',\n",
       " 'between',\n",
       " 'into',\n",
       " 'through',\n",
       " 'during',\n",
       " 'before',\n",
       " 'after',\n",
       " 'above',\n",
       " 'below',\n",
       " 'to',\n",
       " 'from',\n",
       " 'up',\n",
       " 'down',\n",
       " 'in',\n",
       " 'out',\n",
       " 'on',\n",
       " 'off',\n",
       " 'over',\n",
       " 'under',\n",
       " 'again',\n",
       " 'further',\n",
       " 'then',\n",
       " 'once',\n",
       " 'here',\n",
       " 'there',\n",
       " 'when',\n",
       " 'where',\n",
       " 'why',\n",
       " 'how',\n",
       " 'all',\n",
       " 'any',\n",
       " 'both',\n",
       " 'each',\n",
       " 'few',\n",
       " 'more',\n",
       " 'most',\n",
       " 'other',\n",
       " 'some',\n",
       " 'such',\n",
       " 'no',\n",
       " 'nor',\n",
       " 'not',\n",
       " 'only',\n",
       " 'own',\n",
       " 'same',\n",
       " 'so',\n",
       " 'than',\n",
       " 'too',\n",
       " 'very',\n",
       " 's',\n",
       " 't',\n",
       " 'can',\n",
       " 'will',\n",
       " 'just',\n",
       " 'don',\n",
       " \"don't\",\n",
       " 'should',\n",
       " \"should've\",\n",
       " 'now',\n",
       " 'd',\n",
       " 'll',\n",
       " 'm',\n",
       " 'o',\n",
       " 're',\n",
       " 've',\n",
       " 'y',\n",
       " 'ain',\n",
       " 'aren',\n",
       " \"aren't\",\n",
       " 'couldn',\n",
       " \"couldn't\",\n",
       " 'didn',\n",
       " \"didn't\",\n",
       " 'doesn',\n",
       " \"doesn't\",\n",
       " 'hadn',\n",
       " \"hadn't\",\n",
       " 'hasn',\n",
       " \"hasn't\",\n",
       " 'haven',\n",
       " \"haven't\",\n",
       " 'isn',\n",
       " \"isn't\",\n",
       " 'ma',\n",
       " 'mightn',\n",
       " \"mightn't\",\n",
       " 'mustn',\n",
       " \"mustn't\",\n",
       " 'needn',\n",
       " \"needn't\",\n",
       " 'shan',\n",
       " \"shan't\",\n",
       " 'shouldn',\n",
       " \"shouldn't\",\n",
       " 'wasn',\n",
       " \"wasn't\",\n",
       " 'weren',\n",
       " \"weren't\",\n",
       " 'won',\n",
       " \"won't\",\n",
       " 'wouldn',\n",
       " \"wouldn't\"]"
      ]
     },
     "execution_count": 10,
     "metadata": {},
     "output_type": "execute_result"
    }
   ],
   "source": [
    "stopwords.words('english')"
   ]
  },
  {
   "cell_type": "code",
   "execution_count": null,
   "id": "af139d13-e71d-494d-a96b-a8db41a6324a",
   "metadata": {},
   "outputs": [],
   "source": [
    "def remove_stopwords(text):\n",
    "    next_text=[]\n",
    "    for word in text.split():\n",
    "        if word in stopwords.words('english'):\n",
    "            next_text.append('')\n",
    "        else:\n",
    "            next_text.append(word)\n",
    "    x=next_text[:]\n",
    "    next_text.clear()\n",
    "    return \"\".join(x)"
   ]
  },
  {
   "cell_type": "code",
   "execution_count": null,
   "id": "ba1da000-9e3f-462c-a3b3-48978fca28d5",
   "metadata": {},
   "outputs": [],
   "source": [
    "df=pd.read_csv('dataset/IMDB Dataset.csv')"
   ]
  },
  {
   "cell_type": "code",
   "execution_count": null,
   "id": "11961547-7057-4137-b723-aeb30a568e01",
   "metadata": {},
   "outputs": [],
   "source": [
    "text=\"One of the other reviewers has mentioned that after watching just 1 Oz episode you'll be hooked. They are right, as this is exactly what happened with me.<br /><br />The first thing that struck me about Oz was its brutality and unflinching scenes of violence, which set in right from the word GO. Trust me, this is not a show for the faint hearted or timid. This show pulls no punches with regards to drugs, sex or violence. Its is hardcore, in the classic use of the word.<br /><br />It is called OZ as that is the nickname given to the Oswald Maximum Security State Penitentary. It focuses mainly on Emerald City, an experimental section of the prison where all the cells have glass fronts and face inwards, so privacy is not high on the agenda. Em City is home to many..Aryans, Muslims, gangstas, Latinos, Christians, Italians, Irish and more....so scuffles, death stares, dodgy dealings and shady agreements are never far away.<br /><br />I would say the main appeal of the show is due to the fact that it goes where other shows wouldn't dare. Forget pretty pictures painted for mainstream audiences, forget charm, forget romance...OZ doesn't mess around. The first episode I ever saw struck me as so nasty it was surreal, I couldn't say I was ready for it, but as I watched more, I developed a taste for Oz, and got accustomed to the high levels of graphic violence. Not just violence, but injustice (crooked guards who'll be sold out for a nickel, inmates who'll kill on order and get away with it, well mannered, middle class inmates being turned into prison bitches due to their lack of street skills or prison experience) Watching Oz, you may become comfortable with what is uncomfortable viewing....thats if you can get in touch with your darker side.\""
   ]
  },
  {
   "cell_type": "code",
   "execution_count": null,
   "id": "c5f84116-6753-4457-84c3-d76f80cae517",
   "metadata": {},
   "outputs": [],
   "source": [
    "remove_stopwords(text)"
   ]
  },
  {
   "cell_type": "code",
   "execution_count": null,
   "id": "89a641dd-315a-4886-a8d0-831770c551d7",
   "metadata": {},
   "outputs": [],
   "source": [
    "df['review'].apply(remove_stopwords)"
   ]
  },
  {
   "cell_type": "code",
   "execution_count": null,
   "id": "ff36f725-9fe2-46e6-bd99-071b5e8ba93f",
   "metadata": {},
   "outputs": [],
   "source": [
    "import pandas as pd\n",
    "from nltk.corpus import stopwords\n",
    "from nltk.tokenize import word_tokenize\n",
    "\n",
    "# Download the NLTK stop words and punkt tokenizer\n",
    "import nltk\n",
    "nltk.download('stopwords')\n",
    "nltk.download('punkt')\n",
    "\n",
    "# Example DataFrame\n",
    "data = {'Text': ['This is a sample sentence.',\n",
    "                  'Another example without stop words.',\n",
    "                  'Remove the stop words.']}\n",
    "\n",
    "df = pd.DataFrame(data)\n",
    "\n",
    "# Function to remove stop words from a given text\n",
    "\n",
    "def remove_stop_words(text):\n",
    "    stop_words = set(stopwords.words('english'))\n",
    "    words = word_tokenize(text)\n",
    "    filtered_text = [word for word in words if word.lower() not in stop_words]\n",
    "    return ' '.join(filtered_text)\n",
    "\n",
    "# Apply the function to the 'Text' column of the DataFrame\n",
    "df['Text'] = df['Text'].apply(remove_stop_words)\n",
    "\n",
    "# Display the modified DataFrame\n",
    "print(df)\n"
   ]
  },
  {
   "cell_type": "code",
   "execution_count": null,
   "id": "4129e40d-f8fe-47d2-823e-16a2649902a8",
   "metadata": {},
   "outputs": [],
   "source": []
  }
 ],
 "metadata": {
  "kernelspec": {
   "display_name": "Python 3 (ipykernel)",
   "language": "python",
   "name": "python3"
  },
  "language_info": {
   "codemirror_mode": {
    "name": "ipython",
    "version": 3
   },
   "file_extension": ".py",
   "mimetype": "text/x-python",
   "name": "python",
   "nbconvert_exporter": "python",
   "pygments_lexer": "ipython3",
   "version": "3.10.10"
  }
 },
 "nbformat": 4,
 "nbformat_minor": 5
}
