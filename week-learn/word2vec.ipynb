{
 "cells": [
  {
   "cell_type": "code",
   "execution_count": 1,
   "id": "9d605f6c-eb7a-4a0d-9571-156491b5d0f7",
   "metadata": {},
   "outputs": [],
   "source": [
    "import numpy as np\n",
    "import pandas as pd"
   ]
  },
  {
   "cell_type": "code",
   "execution_count": 2,
   "id": "dfbcbf37-12d1-49cb-a24d-e435eb5c7666",
   "metadata": {},
   "outputs": [],
   "source": [
    "temp_df = pd.read_csv('dataset/IMDB Dataset.csv')"
   ]
  },
  {
   "cell_type": "code",
   "execution_count": 3,
   "id": "9e53e781-76ce-4593-a480-17ddb9353f31",
   "metadata": {},
   "outputs": [],
   "source": [
    "df = temp_df.iloc[:10000]"
   ]
  },
  {
   "cell_type": "code",
   "execution_count": 4,
   "id": "7c19d366-9d3f-4871-855d-72c5913fe289",
   "metadata": {},
   "outputs": [
    {
     "data": {
      "text/html": [
       "<div>\n",
       "<style scoped>\n",
       "    .dataframe tbody tr th:only-of-type {\n",
       "        vertical-align: middle;\n",
       "    }\n",
       "\n",
       "    .dataframe tbody tr th {\n",
       "        vertical-align: top;\n",
       "    }\n",
       "\n",
       "    .dataframe thead th {\n",
       "        text-align: right;\n",
       "    }\n",
       "</style>\n",
       "<table border=\"1\" class=\"dataframe\">\n",
       "  <thead>\n",
       "    <tr style=\"text-align: right;\">\n",
       "      <th></th>\n",
       "      <th>review</th>\n",
       "      <th>sentiment</th>\n",
       "    </tr>\n",
       "  </thead>\n",
       "  <tbody>\n",
       "    <tr>\n",
       "      <th>0</th>\n",
       "      <td>One of the other reviewers has mentioned that ...</td>\n",
       "      <td>positive</td>\n",
       "    </tr>\n",
       "    <tr>\n",
       "      <th>1</th>\n",
       "      <td>A wonderful little production. &lt;br /&gt;&lt;br /&gt;The...</td>\n",
       "      <td>positive</td>\n",
       "    </tr>\n",
       "    <tr>\n",
       "      <th>2</th>\n",
       "      <td>I thought this was a wonderful way to spend ti...</td>\n",
       "      <td>positive</td>\n",
       "    </tr>\n",
       "    <tr>\n",
       "      <th>3</th>\n",
       "      <td>Basically there's a family where a little boy ...</td>\n",
       "      <td>negative</td>\n",
       "    </tr>\n",
       "    <tr>\n",
       "      <th>4</th>\n",
       "      <td>Petter Mattei's \"Love in the Time of Money\" is...</td>\n",
       "      <td>positive</td>\n",
       "    </tr>\n",
       "  </tbody>\n",
       "</table>\n",
       "</div>"
      ],
      "text/plain": [
       "                                              review sentiment\n",
       "0  One of the other reviewers has mentioned that ...  positive\n",
       "1  A wonderful little production. <br /><br />The...  positive\n",
       "2  I thought this was a wonderful way to spend ti...  positive\n",
       "3  Basically there's a family where a little boy ...  negative\n",
       "4  Petter Mattei's \"Love in the Time of Money\" is...  positive"
      ]
     },
     "execution_count": 4,
     "metadata": {},
     "output_type": "execute_result"
    }
   ],
   "source": [
    "df.head()"
   ]
  },
  {
   "cell_type": "code",
   "execution_count": 5,
   "id": "bfb3017b-54d5-4376-9123-4ab0d2ce34ba",
   "metadata": {},
   "outputs": [
    {
     "name": "stderr",
     "output_type": "stream",
     "text": [
      "C:\\Users\\hp\\AppData\\Local\\Temp\\ipykernel_5168\\3006716147.py:1: SettingWithCopyWarning: \n",
      "A value is trying to be set on a copy of a slice from a DataFrame\n",
      "\n",
      "See the caveats in the documentation: https://pandas.pydata.org/pandas-docs/stable/user_guide/indexing.html#returning-a-view-versus-a-copy\n",
      "  df.drop_duplicates(inplace=True)\n"
     ]
    }
   ],
   "source": [
    "df.drop_duplicates(inplace=True)"
   ]
  },
  {
   "cell_type": "code",
   "execution_count": 6,
   "id": "ce4075a5-33f5-4e85-af5f-c2fd391e6c62",
   "metadata": {},
   "outputs": [],
   "source": [
    "import re\n",
    "def remove_tags(raw_text):\n",
    "    cleaned_text = re.sub(re.compile('<.*?>'), '', raw_text)\n",
    "    return cleaned_text"
   ]
  },
  {
   "cell_type": "code",
   "execution_count": 7,
   "id": "fcc7c333-d1d6-455d-9aa5-ad14c0e957ef",
   "metadata": {},
   "outputs": [
    {
     "name": "stderr",
     "output_type": "stream",
     "text": [
      "C:\\Users\\hp\\AppData\\Local\\Temp\\ipykernel_5168\\2336150696.py:1: SettingWithCopyWarning: \n",
      "A value is trying to be set on a copy of a slice from a DataFrame.\n",
      "Try using .loc[row_indexer,col_indexer] = value instead\n",
      "\n",
      "See the caveats in the documentation: https://pandas.pydata.org/pandas-docs/stable/user_guide/indexing.html#returning-a-view-versus-a-copy\n",
      "  df['review'] = df['review'].apply(remove_tags)\n"
     ]
    }
   ],
   "source": [
    "df['review'] = df['review'].apply(remove_tags)"
   ]
  },
  {
   "cell_type": "code",
   "execution_count": 8,
   "id": "91f9da6c-39c6-4108-a217-857ff943961a",
   "metadata": {},
   "outputs": [
    {
     "name": "stderr",
     "output_type": "stream",
     "text": [
      "C:\\Users\\hp\\AppData\\Local\\Temp\\ipykernel_5168\\740760900.py:1: SettingWithCopyWarning: \n",
      "A value is trying to be set on a copy of a slice from a DataFrame.\n",
      "Try using .loc[row_indexer,col_indexer] = value instead\n",
      "\n",
      "See the caveats in the documentation: https://pandas.pydata.org/pandas-docs/stable/user_guide/indexing.html#returning-a-view-versus-a-copy\n",
      "  df['review'] = df['review'].apply(lambda x:x.lower())\n"
     ]
    }
   ],
   "source": [
    "df['review'] = df['review'].apply(lambda x:x.lower())"
   ]
  },
  {
   "cell_type": "code",
   "execution_count": 9,
   "id": "6ebffc66-fcf7-4c5b-a348-9d8681ee2c1a",
   "metadata": {},
   "outputs": [
    {
     "name": "stderr",
     "output_type": "stream",
     "text": [
      "C:\\Users\\hp\\AppData\\Local\\Temp\\ipykernel_5168\\2826946130.py:5: SettingWithCopyWarning: \n",
      "A value is trying to be set on a copy of a slice from a DataFrame.\n",
      "Try using .loc[row_indexer,col_indexer] = value instead\n",
      "\n",
      "See the caveats in the documentation: https://pandas.pydata.org/pandas-docs/stable/user_guide/indexing.html#returning-a-view-versus-a-copy\n",
      "  df['review'] = df['review'].apply(lambda x: [item for item in x.split() if item not in sw_list]).apply(lambda x:\" \".join(x))\n"
     ]
    }
   ],
   "source": [
    "from nltk.corpus import stopwords\n",
    "\n",
    "sw_list = stopwords.words('english')\n",
    "\n",
    "df['review'] = df['review'].apply(lambda x: [item for item in x.split() if item not in sw_list]).apply(lambda x:\" \".join(x))"
   ]
  },
  {
   "cell_type": "code",
   "execution_count": 10,
   "id": "f78228cf-4396-490e-9de9-001ff35799b9",
   "metadata": {},
   "outputs": [
    {
     "data": {
      "text/plain": [
       "0       one reviewers mentioned watching 1 oz episode ...\n",
       "1       wonderful little production. filming technique...\n",
       "2       thought wonderful way spend time hot summer we...\n",
       "3       basically there's family little boy (jake) thi...\n",
       "4       petter mattei's \"love time money\" visually stu...\n",
       "                              ...                        \n",
       "9995    fun, entertaining movie wwii german spy (julie...\n",
       "9996    give break. anyone say \"good hockey movie\"? kn...\n",
       "9997    movie bad movie. watching endless series bad h...\n",
       "9998    movie probably made entertain middle school, e...\n",
       "9999    smashing film film-making. shows intense stran...\n",
       "Name: review, Length: 9983, dtype: object"
      ]
     },
     "execution_count": 10,
     "metadata": {},
     "output_type": "execute_result"
    }
   ],
   "source": [
    "df['review']"
   ]
  },
  {
   "cell_type": "code",
   "execution_count": 11,
   "id": "354a5e10-3df8-46cc-8ca6-1e42f339c288",
   "metadata": {},
   "outputs": [],
   "source": [
    "import gensim"
   ]
  },
  {
   "cell_type": "code",
   "execution_count": 12,
   "id": "ff2e488c-caa4-4ee6-9fd1-b085f8ea8406",
   "metadata": {},
   "outputs": [],
   "source": [
    "from nltk import sent_tokenize\n",
    "from gensim.utils import simple_preprocess"
   ]
  },
  {
   "cell_type": "code",
   "execution_count": 13,
   "id": "0e98b65e-ae79-4b64-ae3c-ed635b8ce5e2",
   "metadata": {},
   "outputs": [],
   "source": [
    "story = []\n",
    "for doc in df['review']:\n",
    "    raw_sent = sent_tokenize(doc)\n",
    "    for sent in raw_sent:\n",
    "        story.append(simple_preprocess(sent))"
   ]
  },
  {
   "cell_type": "code",
   "execution_count": 15,
   "id": "8a0d84b8-3cfa-4d29-b2cb-0165acd9ad43",
   "metadata": {},
   "outputs": [
    {
     "data": {
      "text/plain": [
       "105773"
      ]
     },
     "execution_count": 15,
     "metadata": {},
     "output_type": "execute_result"
    }
   ],
   "source": [
    "len(story)"
   ]
  },
  {
   "cell_type": "code",
   "execution_count": 17,
   "id": "5d47cfc4-a774-4963-b3ab-d034e4aaffde",
   "metadata": {},
   "outputs": [],
   "source": [
    "model = gensim.models.Word2Vec(window=10,min_count=2)"
   ]
  },
  {
   "cell_type": "code",
   "execution_count": 18,
   "id": "1af1b5ac-ca6d-440b-a344-67d01127a69d",
   "metadata": {},
   "outputs": [],
   "source": [
    "model.build_vocab(story)"
   ]
  },
  {
   "cell_type": "code",
   "execution_count": 19,
   "id": "bce75932-1a77-42c6-8049-8b6aedc76ef2",
   "metadata": {},
   "outputs": [
    {
     "data": {
      "text/plain": [
       "(5875453, 6212140)"
      ]
     },
     "execution_count": 19,
     "metadata": {},
     "output_type": "execute_result"
    }
   ],
   "source": [
    "model.train(story, total_examples=model.corpus_count, epochs=model.epochs)"
   ]
  },
  {
   "cell_type": "code",
   "execution_count": 20,
   "id": "9c2be94e-b2c6-43f4-ae75-c1ab37c500e0",
   "metadata": {},
   "outputs": [
    {
     "data": {
      "text/plain": [
       "31845"
      ]
     },
     "execution_count": 20,
     "metadata": {},
     "output_type": "execute_result"
    }
   ],
   "source": [
    "len(model.wv.index_to_key)"
   ]
  },
  {
   "cell_type": "code",
   "execution_count": 21,
   "id": "ea218b28-cb40-437f-b334-df627699b032",
   "metadata": {},
   "outputs": [],
   "source": [
    "def document_vector(doc):\n",
    "    # remove out-of-vocabulary words\n",
    "    doc = [word for word in doc.split() if word in model.wv.index_to_key]\n",
    "    return np.mean(model.wv[doc], axis=0)"
   ]
  },
  {
   "cell_type": "code",
   "execution_count": 22,
   "id": "595fea51-8c4a-495b-9398-de61903dbfa6",
   "metadata": {},
   "outputs": [
    {
     "data": {
      "text/plain": [
       "array([-0.19842131,  0.4696381 ,  0.1464226 ,  0.21745904, -0.14646834,\n",
       "       -0.63571906,  0.23682024,  0.9505459 , -0.3262931 , -0.3235152 ,\n",
       "       -0.29111582, -0.5137831 ,  0.06205136,  0.14587256,  0.20104463,\n",
       "       -0.07592639, -0.01624624, -0.31900185, -0.09411856, -0.5795793 ,\n",
       "        0.04553343,  0.292698  ,  0.07664304, -0.29848093, -0.290557  ,\n",
       "       -0.02000025, -0.3227828 , -0.03918373, -0.30897763,  0.0225875 ,\n",
       "        0.2949583 , -0.01764273,  0.20407455, -0.23245457, -0.11483708,\n",
       "        0.49137667,  0.12144089, -0.4176556 , -0.2578084 , -0.7343974 ,\n",
       "        0.11386997, -0.27379838,  0.05375929, -0.07461816,  0.49635848,\n",
       "       -0.12203024, -0.25656396, -0.03403258,  0.1365635 ,  0.35387436,\n",
       "        0.06956244, -0.3818082 , -0.41040275, -0.07400509, -0.07261509,\n",
       "        0.203899  ,  0.24364123, -0.01634261, -0.2726899 ,  0.09118007,\n",
       "        0.08092742,  0.07759406,  0.0090733 , -0.10331094, -0.45999533,\n",
       "        0.2967155 ,  0.03010197,  0.11080201, -0.34058535,  0.29236153,\n",
       "       -0.33535844,  0.07575931,  0.61346567, -0.08205879,  0.39964822,\n",
       "        0.1337584 , -0.02479454, -0.14178278, -0.51732856,  0.156142  ,\n",
       "       -0.30924937,  0.06883516, -0.40105677,  0.47363353, -0.12246077,\n",
       "       -0.10646684, -0.0615556 ,  0.19541469,  0.27199602,  0.13595761,\n",
       "        0.26755545,  0.2526604 ,  0.02782805,  0.15969639,  0.6146844 ,\n",
       "        0.24522996,  0.15083508, -0.17986493, -0.02993421, -0.13595995],\n",
       "      dtype=float32)"
      ]
     },
     "execution_count": 22,
     "metadata": {},
     "output_type": "execute_result"
    }
   ],
   "source": [
    "document_vector(df['review'].values[0])"
   ]
  },
  {
   "cell_type": "code",
   "execution_count": 23,
   "id": "d2067dbb-91a1-438a-9ebb-eb516b59b037",
   "metadata": {},
   "outputs": [],
   "source": [
    "from tqdm import tqdm"
   ]
  },
  {
   "cell_type": "code",
   "execution_count": 24,
   "id": "2a57183a-c32e-4368-a428-b3107221426d",
   "metadata": {},
   "outputs": [
    {
     "name": "stderr",
     "output_type": "stream",
     "text": [
      "100%|██████████████████████████████████████████████████████████████████████████████| 9983/9983 [19:53<00:00,  8.37it/s]\n"
     ]
    }
   ],
   "source": [
    "X = []\n",
    "for doc in tqdm(df['review'].values):\n",
    "    X.append(document_vector(doc))"
   ]
  },
  {
   "cell_type": "code",
   "execution_count": 25,
   "id": "15573177-9635-47ed-8146-dcfeea8f4dd1",
   "metadata": {},
   "outputs": [],
   "source": [
    "X = np.array(X)"
   ]
  },
  {
   "cell_type": "code",
   "execution_count": 26,
   "id": "4e961bce-1eca-4ce3-8095-f818736e9eea",
   "metadata": {},
   "outputs": [
    {
     "data": {
      "text/plain": [
       "array([-0.19842131,  0.4696381 ,  0.1464226 ,  0.21745904, -0.14646834,\n",
       "       -0.63571906,  0.23682024,  0.9505459 , -0.3262931 , -0.3235152 ,\n",
       "       -0.29111582, -0.5137831 ,  0.06205136,  0.14587256,  0.20104463,\n",
       "       -0.07592639, -0.01624624, -0.31900185, -0.09411856, -0.5795793 ,\n",
       "        0.04553343,  0.292698  ,  0.07664304, -0.29848093, -0.290557  ,\n",
       "       -0.02000025, -0.3227828 , -0.03918373, -0.30897763,  0.0225875 ,\n",
       "        0.2949583 , -0.01764273,  0.20407455, -0.23245457, -0.11483708,\n",
       "        0.49137667,  0.12144089, -0.4176556 , -0.2578084 , -0.7343974 ,\n",
       "        0.11386997, -0.27379838,  0.05375929, -0.07461816,  0.49635848,\n",
       "       -0.12203024, -0.25656396, -0.03403258,  0.1365635 ,  0.35387436,\n",
       "        0.06956244, -0.3818082 , -0.41040275, -0.07400509, -0.07261509,\n",
       "        0.203899  ,  0.24364123, -0.01634261, -0.2726899 ,  0.09118007,\n",
       "        0.08092742,  0.07759406,  0.0090733 , -0.10331094, -0.45999533,\n",
       "        0.2967155 ,  0.03010197,  0.11080201, -0.34058535,  0.29236153,\n",
       "       -0.33535844,  0.07575931,  0.61346567, -0.08205879,  0.39964822,\n",
       "        0.1337584 , -0.02479454, -0.14178278, -0.51732856,  0.156142  ,\n",
       "       -0.30924937,  0.06883516, -0.40105677,  0.47363353, -0.12246077,\n",
       "       -0.10646684, -0.0615556 ,  0.19541469,  0.27199602,  0.13595761,\n",
       "        0.26755545,  0.2526604 ,  0.02782805,  0.15969639,  0.6146844 ,\n",
       "        0.24522996,  0.15083508, -0.17986493, -0.02993421, -0.13595995],\n",
       "      dtype=float32)"
      ]
     },
     "execution_count": 26,
     "metadata": {},
     "output_type": "execute_result"
    }
   ],
   "source": [
    "X[0]"
   ]
  },
  {
   "cell_type": "code",
   "execution_count": 27,
   "id": "c35f46fa-a607-4191-b378-c8f83f163e52",
   "metadata": {},
   "outputs": [],
   "source": [
    "from sklearn.preprocessing import LabelEncoder\n",
    "encoder = LabelEncoder()\n",
    "\n",
    "y = encoder.fit_transform(df['sentiment'])"
   ]
  },
  {
   "cell_type": "code",
   "execution_count": 28,
   "id": "aa187e7e-2b09-442e-873f-29c66b4abc20",
   "metadata": {},
   "outputs": [
    {
     "data": {
      "text/plain": [
       "array([1, 1, 1, ..., 0, 0, 1])"
      ]
     },
     "execution_count": 28,
     "metadata": {},
     "output_type": "execute_result"
    }
   ],
   "source": [
    "y"
   ]
  },
  {
   "cell_type": "code",
   "execution_count": 29,
   "id": "6702f386-a72b-4c87-9d62-8797037b08df",
   "metadata": {},
   "outputs": [],
   "source": [
    "from sklearn.model_selection import train_test_split\n",
    "X_train,X_test,y_train,y_test = train_test_split(X,y,test_size=0.2,random_state=1)"
   ]
  },
  {
   "cell_type": "code",
   "execution_count": 30,
   "id": "13b96245-adb1-4ab5-aabf-38f0ca292944",
   "metadata": {},
   "outputs": [],
   "source": [
    "from sklearn.ensemble import RandomForestClassifier\n",
    "from sklearn.metrics import accuracy_score"
   ]
  },
  {
   "cell_type": "code",
   "execution_count": 31,
   "id": "ea77398d-a426-4d8d-adfd-f7c8d9d64a6d",
   "metadata": {},
   "outputs": [
    {
     "data": {
      "text/plain": [
       "0.7751627441161743"
      ]
     },
     "execution_count": 31,
     "metadata": {},
     "output_type": "execute_result"
    }
   ],
   "source": [
    "rf = RandomForestClassifier()\n",
    "rf.fit(X_train,y_train)\n",
    "y_pred = rf.predict(X_test)\n",
    "accuracy_score(y_test,y_pred)"
   ]
  },
  {
   "cell_type": "code",
   "execution_count": null,
   "id": "5474abed-31d6-43fc-843e-56d45577947b",
   "metadata": {},
   "outputs": [],
   "source": []
  }
 ],
 "metadata": {
  "kernelspec": {
   "display_name": "Python 3 (ipykernel)",
   "language": "python",
   "name": "python3"
  },
  "language_info": {
   "codemirror_mode": {
    "name": "ipython",
    "version": 3
   },
   "file_extension": ".py",
   "mimetype": "text/x-python",
   "name": "python",
   "nbconvert_exporter": "python",
   "pygments_lexer": "ipython3",
   "version": "3.10.10"
  }
 },
 "nbformat": 4,
 "nbformat_minor": 5
}
