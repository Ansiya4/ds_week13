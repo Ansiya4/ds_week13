{
 "cells": [
  {
   "cell_type": "code",
   "execution_count": 1,
   "id": "5ff12fd5-35e3-4a1c-b119-48a329c30f4a",
   "metadata": {},
   "outputs": [],
   "source": [
    "import numpy as np\n",
    "import pandas as pd"
   ]
  },
  {
   "cell_type": "code",
   "execution_count": 2,
   "id": "415a9f22-cd0d-4083-8c33-fb6f41007bc1",
   "metadata": {},
   "outputs": [],
   "source": [
    "import matplotlib.pyplot as plt\n",
    "import seaborn as sns"
   ]
  },
  {
   "cell_type": "code",
   "execution_count": 4,
   "id": "fb3bac65-009d-4a83-af50-4d8e11611cd2",
   "metadata": {},
   "outputs": [],
   "source": [
    "df=pd.read_csv('dataset/train.csv')"
   ]
  },
  {
   "cell_type": "code",
   "execution_count": 5,
   "id": "ddff5ea3-5ab1-4776-8f79-fcd9a9c50645",
   "metadata": {},
   "outputs": [
    {
     "data": {
      "text/plain": [
       "(404290, 6)"
      ]
     },
     "execution_count": 5,
     "metadata": {},
     "output_type": "execute_result"
    }
   ],
   "source": [
    "df.shape"
   ]
  },
  {
   "cell_type": "code",
   "execution_count": 6,
   "id": "1c8fd532-e53c-4bac-ba3f-b4f2cb4800f6",
   "metadata": {},
   "outputs": [
    {
     "data": {
      "text/html": [
       "<div>\n",
       "<style scoped>\n",
       "    .dataframe tbody tr th:only-of-type {\n",
       "        vertical-align: middle;\n",
       "    }\n",
       "\n",
       "    .dataframe tbody tr th {\n",
       "        vertical-align: top;\n",
       "    }\n",
       "\n",
       "    .dataframe thead th {\n",
       "        text-align: right;\n",
       "    }\n",
       "</style>\n",
       "<table border=\"1\" class=\"dataframe\">\n",
       "  <thead>\n",
       "    <tr style=\"text-align: right;\">\n",
       "      <th></th>\n",
       "      <th>id</th>\n",
       "      <th>qid1</th>\n",
       "      <th>qid2</th>\n",
       "      <th>question1</th>\n",
       "      <th>question2</th>\n",
       "      <th>is_duplicate</th>\n",
       "    </tr>\n",
       "  </thead>\n",
       "  <tbody>\n",
       "    <tr>\n",
       "      <th>59212</th>\n",
       "      <td>59212</td>\n",
       "      <td>103752</td>\n",
       "      <td>103753</td>\n",
       "      <td>Which is better Ubuntu or Windows 8.1?</td>\n",
       "      <td>Which is a better OS between Ubuntu &amp; Windows 8?</td>\n",
       "      <td>0</td>\n",
       "    </tr>\n",
       "    <tr>\n",
       "      <th>322671</th>\n",
       "      <td>322671</td>\n",
       "      <td>50496</td>\n",
       "      <td>448525</td>\n",
       "      <td>How many degrees does the hour hand of a clock...</td>\n",
       "      <td>How many degrees does the hour hand of a clock...</td>\n",
       "      <td>1</td>\n",
       "    </tr>\n",
       "    <tr>\n",
       "      <th>323972</th>\n",
       "      <td>323972</td>\n",
       "      <td>450005</td>\n",
       "      <td>450006</td>\n",
       "      <td>How do we teach kindness?</td>\n",
       "      <td>How do I teach?</td>\n",
       "      <td>0</td>\n",
       "    </tr>\n",
       "    <tr>\n",
       "      <th>140952</th>\n",
       "      <td>140952</td>\n",
       "      <td>223892</td>\n",
       "      <td>223893</td>\n",
       "      <td>Is the recent PBS quiz 'Are You Sexist?' in it...</td>\n",
       "      <td>Are France's anti-veil laws sexist?</td>\n",
       "      <td>0</td>\n",
       "    </tr>\n",
       "    <tr>\n",
       "      <th>329270</th>\n",
       "      <td>329270</td>\n",
       "      <td>171256</td>\n",
       "      <td>331120</td>\n",
       "      <td>Nobody is answering my questions on Quora and ...</td>\n",
       "      <td>Even though most of my asked questions are in ...</td>\n",
       "      <td>1</td>\n",
       "    </tr>\n",
       "    <tr>\n",
       "      <th>156878</th>\n",
       "      <td>156878</td>\n",
       "      <td>148299</td>\n",
       "      <td>122986</td>\n",
       "      <td>How do I get started to create a new website?</td>\n",
       "      <td>What is the easiest way to create a website?</td>\n",
       "      <td>1</td>\n",
       "    </tr>\n",
       "    <tr>\n",
       "      <th>182596</th>\n",
       "      <td>182596</td>\n",
       "      <td>279423</td>\n",
       "      <td>279424</td>\n",
       "      <td>Who can be a Dalai Lama?</td>\n",
       "      <td>Who is the Dalai Lama?</td>\n",
       "      <td>0</td>\n",
       "    </tr>\n",
       "    <tr>\n",
       "      <th>402328</th>\n",
       "      <td>402328</td>\n",
       "      <td>535796</td>\n",
       "      <td>535797</td>\n",
       "      <td>Will ActionCable perform well in Ruby on Rails...</td>\n",
       "      <td>How fast is Rails 5 ActionCable compared to No...</td>\n",
       "      <td>0</td>\n",
       "    </tr>\n",
       "    <tr>\n",
       "      <th>380571</th>\n",
       "      <td>380571</td>\n",
       "      <td>210737</td>\n",
       "      <td>512192</td>\n",
       "      <td>Which course to choose?</td>\n",
       "      <td>Which course should I choose?</td>\n",
       "      <td>0</td>\n",
       "    </tr>\n",
       "    <tr>\n",
       "      <th>363853</th>\n",
       "      <td>363853</td>\n",
       "      <td>102341</td>\n",
       "      <td>153999</td>\n",
       "      <td>How do I know if somebody likes me?</td>\n",
       "      <td>How would I know if she likes me?</td>\n",
       "      <td>0</td>\n",
       "    </tr>\n",
       "  </tbody>\n",
       "</table>\n",
       "</div>"
      ],
      "text/plain": [
       "            id    qid1    qid2  \\\n",
       "59212    59212  103752  103753   \n",
       "322671  322671   50496  448525   \n",
       "323972  323972  450005  450006   \n",
       "140952  140952  223892  223893   \n",
       "329270  329270  171256  331120   \n",
       "156878  156878  148299  122986   \n",
       "182596  182596  279423  279424   \n",
       "402328  402328  535796  535797   \n",
       "380571  380571  210737  512192   \n",
       "363853  363853  102341  153999   \n",
       "\n",
       "                                                question1  \\\n",
       "59212              Which is better Ubuntu or Windows 8.1?   \n",
       "322671  How many degrees does the hour hand of a clock...   \n",
       "323972                          How do we teach kindness?   \n",
       "140952  Is the recent PBS quiz 'Are You Sexist?' in it...   \n",
       "329270  Nobody is answering my questions on Quora and ...   \n",
       "156878      How do I get started to create a new website?   \n",
       "182596                           Who can be a Dalai Lama?   \n",
       "402328  Will ActionCable perform well in Ruby on Rails...   \n",
       "380571                            Which course to choose?   \n",
       "363853                How do I know if somebody likes me?   \n",
       "\n",
       "                                                question2  is_duplicate  \n",
       "59212    Which is a better OS between Ubuntu & Windows 8?             0  \n",
       "322671  How many degrees does the hour hand of a clock...             1  \n",
       "323972                                    How do I teach?             0  \n",
       "140952                Are France's anti-veil laws sexist?             0  \n",
       "329270  Even though most of my asked questions are in ...             1  \n",
       "156878       What is the easiest way to create a website?             1  \n",
       "182596                             Who is the Dalai Lama?             0  \n",
       "402328  How fast is Rails 5 ActionCable compared to No...             0  \n",
       "380571                      Which course should I choose?             0  \n",
       "363853                  How would I know if she likes me?             0  "
      ]
     },
     "execution_count": 6,
     "metadata": {},
     "output_type": "execute_result"
    }
   ],
   "source": [
    "df.sample(10)"
   ]
  },
  {
   "cell_type": "code",
   "execution_count": 7,
   "id": "9e73771b-08c5-454f-abca-2e6d9577e139",
   "metadata": {},
   "outputs": [
    {
     "name": "stdout",
     "output_type": "stream",
     "text": [
      "<class 'pandas.core.frame.DataFrame'>\n",
      "RangeIndex: 404290 entries, 0 to 404289\n",
      "Data columns (total 6 columns):\n",
      " #   Column        Non-Null Count   Dtype \n",
      "---  ------        --------------   ----- \n",
      " 0   id            404290 non-null  int64 \n",
      " 1   qid1          404290 non-null  int64 \n",
      " 2   qid2          404290 non-null  int64 \n",
      " 3   question1     404289 non-null  object\n",
      " 4   question2     404288 non-null  object\n",
      " 5   is_duplicate  404290 non-null  int64 \n",
      "dtypes: int64(4), object(2)\n",
      "memory usage: 18.5+ MB\n"
     ]
    }
   ],
   "source": [
    "df.info()"
   ]
  },
  {
   "cell_type": "code",
   "execution_count": 8,
   "id": "c655bbd2-ccee-403f-a320-6199df8f5e13",
   "metadata": {},
   "outputs": [
    {
     "data": {
      "text/plain": [
       "id              0\n",
       "qid1            0\n",
       "qid2            0\n",
       "question1       1\n",
       "question2       2\n",
       "is_duplicate    0\n",
       "dtype: int64"
      ]
     },
     "execution_count": 8,
     "metadata": {},
     "output_type": "execute_result"
    }
   ],
   "source": [
    "# missing values\n",
    "df.isnull().sum()"
   ]
  },
  {
   "cell_type": "code",
   "execution_count": 9,
   "id": "dc3c2585-e5c0-4334-8bca-400033f85ac6",
   "metadata": {},
   "outputs": [
    {
     "data": {
      "text/plain": [
       "0"
      ]
     },
     "execution_count": 9,
     "metadata": {},
     "output_type": "execute_result"
    }
   ],
   "source": [
    "# duplicate rows\n",
    "df.duplicated().sum()"
   ]
  },
  {
   "cell_type": "code",
   "execution_count": 10,
   "id": "6fbab180-d9a9-4751-a5ea-62b7f8ad2315",
   "metadata": {},
   "outputs": [
    {
     "name": "stdout",
     "output_type": "stream",
     "text": [
      "is_duplicate\n",
      "0    255027\n",
      "1    149263\n",
      "Name: count, dtype: int64\n",
      "is_duplicate\n",
      "0    63.080215\n",
      "1    36.919785\n",
      "Name: count, dtype: float64\n"
     ]
    },
    {
     "data": {
      "text/plain": [
       "<Axes: xlabel='is_duplicate'>"
      ]
     },
     "execution_count": 10,
     "metadata": {},
     "output_type": "execute_result"
    },
    {
     "data": {
      "image/png": "[encoded data removed]",
      "text/plain": [
       "<Figure size 640x480 with 1 Axes>"
      ]
     },
     "metadata": {},
     "output_type": "display_data"
    }
   ],
   "source": [
    "# Distribution of duplicate and non-duplicate questions\n",
    "\n",
    "print(df['is_duplicate'].value_counts())\n",
    "print((df['is_duplicate'].value_counts()/df['is_duplicate'].count())*100)\n",
    "df['is_duplicate'].value_counts().plot(kind='bar')"
   ]
  },
  {
   "cell_type": "code",
   "execution_count": 11,
   "id": "574e0d1e-448d-4eac-9db9-f87b37f9e909",
   "metadata": {},
   "outputs": [
    {
     "name": "stdout",
     "output_type": "stream",
     "text": [
      "Number of unique questions 537933\n",
      "Number of questions getting repeated 111780\n"
     ]
    }
   ],
   "source": [
    "\n",
    "# Repeated questions\n",
    "\n",
    "qid = pd.Series(df['qid1'].tolist() + df['qid2'].tolist())\n",
    "print('Number of unique questions',np.unique(qid).shape[0])\n",
    "x = qid.value_counts()>1\n",
    "print('Number of questions getting repeated',x[x].shape[0])"
   ]
  },
  {
   "cell_type": "code",
   "execution_count": 12,
   "id": "c1f8685b-5f2f-490b-aa37-85f08f83d30a",
   "metadata": {},
   "outputs": [
    {
     "data": {
      "image/png": "[encoded data removed]",
      "text/plain": [
       "<Figure size 640x480 with 1 Axes>"
      ]
     },
     "metadata": {},
     "output_type": "display_data"
    }
   ],
   "source": [
    "# Repeated questions histogram\n",
    "\n",
    "plt.hist(qid.value_counts().values,bins=60)\n",
    "plt.yscale('log')\n",
    "plt.show()"
   ]
  },
  {
   "cell_type": "code",
   "execution_count": null,
   "id": "6acb9499-7a4b-4819-a063-3af95689f531",
   "metadata": {},
   "outputs": [],
   "source": []
  }
 ],
 "metadata": {
  "kernelspec": {
   "display_name": "Python 3 (ipykernel)",
   "language": "python",
   "name": "python3"
  },
  "language_info": {
   "codemirror_mode": {
    "name": "ipython",
    "version": 3
   },
   "file_extension": ".py",
   "mimetype": "text/x-python",
   "name": "python",
   "nbconvert_exporter": "python",
   "pygments_lexer": "ipython3",
   "version": "3.10.10"
  }
 },
 "nbformat": 4,
 "nbformat_minor": 5
}
